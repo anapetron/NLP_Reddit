{
 "cells": [
  {
   "cell_type": "markdown",
   "metadata": {},
   "source": [
    "## Imports"
   ]
  },
  {
   "cell_type": "code",
   "execution_count": 1,
   "metadata": {},
   "outputs": [],
   "source": [
    "import pandas as pd\n",
    "import numpy as np\n",
    "import regex as re\n",
    "import scipy as sp\n",
    "import string\n",
    "from nltk.corpus import stopwords\n",
    "from nltk.stem import WordNetLemmatizer\n",
    "from nltk.tokenize import RegexpTokenizer\n",
    "from nltk.stem.porter import PorterStemmer\n",
    "from sklearn.model_selection import train_test_split\n",
    "from sklearn.feature_extraction import stop_words\n",
    "from sklearn.feature_extraction.text import CountVectorizer, TfidfVectorizer\n",
    "from sklearn.naive_bayes import MultinomialNB # Naive Bayes\n",
    "from sklearn.linear_model import LogisticRegression\n",
    "from sklearn import metrics\n",
    "from sklearn.naive_bayes import GaussianNB, MultinomialNB, BernoulliNB, ComplementNB"
   ]
  },
  {
   "cell_type": "markdown",
   "metadata": {},
   "source": [
    "Reading in the datasets"
   ]
  },
  {
   "cell_type": "code",
   "execution_count": 2,
   "metadata": {},
   "outputs": [],
   "source": [
    "mens = pd.read_csv(\"./datasets/mens_reddit2.csv\")"
   ]
  },
  {
   "cell_type": "code",
   "execution_count": 3,
   "metadata": {},
   "outputs": [],
   "source": [
    "womens = pd.read_csv(\"./datasets/womens_reddit2.csv\")"
   ]
  },
  {
   "cell_type": "code",
   "execution_count": 4,
   "metadata": {},
   "outputs": [
    {
     "data": {
      "text/html": [
       "<div>\n",
       "<style scoped>\n",
       "    .dataframe tbody tr th:only-of-type {\n",
       "        vertical-align: middle;\n",
       "    }\n",
       "\n",
       "    .dataframe tbody tr th {\n",
       "        vertical-align: top;\n",
       "    }\n",
       "\n",
       "    .dataframe thead th {\n",
       "        text-align: right;\n",
       "    }\n",
       "</style>\n",
       "<table border=\"1\" class=\"dataframe\">\n",
       "  <thead>\n",
       "    <tr style=\"text-align: right;\">\n",
       "      <th></th>\n",
       "      <th>Unnamed: 0</th>\n",
       "      <th>subreddit</th>\n",
       "      <th>selftext</th>\n",
       "      <th>title</th>\n",
       "    </tr>\n",
       "  </thead>\n",
       "  <tbody>\n",
       "    <tr>\n",
       "      <th>0</th>\n",
       "      <td>0</td>\n",
       "      <td>malefashionadvice</td>\n",
       "      <td>NaN</td>\n",
       "      <td>Fast Drying Mens 100% Cotton Gym Towels</td>\n",
       "    </tr>\n",
       "    <tr>\n",
       "      <th>1</th>\n",
       "      <td>1</td>\n",
       "      <td>malefashionadvice</td>\n",
       "      <td>[removed]</td>\n",
       "      <td>Looking For Boots</td>\n",
       "    </tr>\n",
       "    <tr>\n",
       "      <th>2</th>\n",
       "      <td>2</td>\n",
       "      <td>malefashionadvice</td>\n",
       "      <td>NaN</td>\n",
       "      <td>Drew today's outfit</td>\n",
       "    </tr>\n",
       "    <tr>\n",
       "      <th>3</th>\n",
       "      <td>3</td>\n",
       "      <td>malefashionadvice</td>\n",
       "      <td>[removed]</td>\n",
       "      <td>Advice for collars for the well dressed Man on...</td>\n",
       "    </tr>\n",
       "    <tr>\n",
       "      <th>4</th>\n",
       "      <td>4</td>\n",
       "      <td>malefashionadvice</td>\n",
       "      <td>Figured maybe I could get some help from other...</td>\n",
       "      <td>need help finding these mens 3\" or 4\" soffe sh...</td>\n",
       "    </tr>\n",
       "  </tbody>\n",
       "</table>\n",
       "</div>"
      ],
      "text/plain": [
       "   Unnamed: 0          subreddit  \\\n",
       "0           0  malefashionadvice   \n",
       "1           1  malefashionadvice   \n",
       "2           2  malefashionadvice   \n",
       "3           3  malefashionadvice   \n",
       "4           4  malefashionadvice   \n",
       "\n",
       "                                            selftext  \\\n",
       "0                                                NaN   \n",
       "1                                          [removed]   \n",
       "2                                                NaN   \n",
       "3                                          [removed]   \n",
       "4  Figured maybe I could get some help from other...   \n",
       "\n",
       "                                               title  \n",
       "0            Fast Drying Mens 100% Cotton Gym Towels  \n",
       "1                                  Looking For Boots  \n",
       "2                                Drew today's outfit  \n",
       "3  Advice for collars for the well dressed Man on...  \n",
       "4  need help finding these mens 3\" or 4\" soffe sh...  "
      ]
     },
     "execution_count": 4,
     "metadata": {},
     "output_type": "execute_result"
    }
   ],
   "source": [
    "mens.head()"
   ]
  },
  {
   "cell_type": "code",
   "execution_count": 5,
   "metadata": {},
   "outputs": [],
   "source": [
    "mens.drop('Unnamed: 0', axis=1, inplace=True)"
   ]
  },
  {
   "cell_type": "code",
   "execution_count": 6,
   "metadata": {
    "scrolled": true
   },
   "outputs": [
    {
     "data": {
      "text/html": [
       "<div>\n",
       "<style scoped>\n",
       "    .dataframe tbody tr th:only-of-type {\n",
       "        vertical-align: middle;\n",
       "    }\n",
       "\n",
       "    .dataframe tbody tr th {\n",
       "        vertical-align: top;\n",
       "    }\n",
       "\n",
       "    .dataframe thead th {\n",
       "        text-align: right;\n",
       "    }\n",
       "</style>\n",
       "<table border=\"1\" class=\"dataframe\">\n",
       "  <thead>\n",
       "    <tr style=\"text-align: right;\">\n",
       "      <th></th>\n",
       "      <th>Unnamed: 0</th>\n",
       "      <th>subreddit</th>\n",
       "      <th>selftext</th>\n",
       "      <th>title</th>\n",
       "    </tr>\n",
       "  </thead>\n",
       "  <tbody>\n",
       "    <tr>\n",
       "      <th>0</th>\n",
       "      <td>0</td>\n",
       "      <td>femalefashionadvice</td>\n",
       "      <td>I hate how mittens or woolen gloves look. It's...</td>\n",
       "      <td>What are some good looking but also comfy warm...</td>\n",
       "    </tr>\n",
       "    <tr>\n",
       "      <th>1</th>\n",
       "      <td>1</td>\n",
       "      <td>femalefashionadvice</td>\n",
       "      <td>Whether you’re trying to decipher your cousin’...</td>\n",
       "      <td>Weddings, Parties, and Events - January 27, 2020</td>\n",
       "    </tr>\n",
       "    <tr>\n",
       "      <th>2</th>\n",
       "      <td>2</td>\n",
       "      <td>femalefashionadvice</td>\n",
       "      <td>[removed]</td>\n",
       "      <td>High Quality Fashion Brands for Curvy (not mea...</td>\n",
       "    </tr>\n",
       "    <tr>\n",
       "      <th>3</th>\n",
       "      <td>3</td>\n",
       "      <td>femalefashionadvice</td>\n",
       "      <td>I’m 20 NB AMAB Person here and in a little les...</td>\n",
       "      <td>I need help designing an outfit for a theme party</td>\n",
       "    </tr>\n",
       "    <tr>\n",
       "      <th>4</th>\n",
       "      <td>4</td>\n",
       "      <td>femalefashionadvice</td>\n",
       "      <td>[removed]</td>\n",
       "      <td>I don't know what style I am...</td>\n",
       "    </tr>\n",
       "  </tbody>\n",
       "</table>\n",
       "</div>"
      ],
      "text/plain": [
       "   Unnamed: 0            subreddit  \\\n",
       "0           0  femalefashionadvice   \n",
       "1           1  femalefashionadvice   \n",
       "2           2  femalefashionadvice   \n",
       "3           3  femalefashionadvice   \n",
       "4           4  femalefashionadvice   \n",
       "\n",
       "                                            selftext  \\\n",
       "0  I hate how mittens or woolen gloves look. It's...   \n",
       "1  Whether you’re trying to decipher your cousin’...   \n",
       "2                                          [removed]   \n",
       "3  I’m 20 NB AMAB Person here and in a little les...   \n",
       "4                                          [removed]   \n",
       "\n",
       "                                               title  \n",
       "0  What are some good looking but also comfy warm...  \n",
       "1   Weddings, Parties, and Events - January 27, 2020  \n",
       "2  High Quality Fashion Brands for Curvy (not mea...  \n",
       "3  I need help designing an outfit for a theme party  \n",
       "4                    I don't know what style I am...  "
      ]
     },
     "execution_count": 6,
     "metadata": {},
     "output_type": "execute_result"
    }
   ],
   "source": [
    "womens.head()"
   ]
  },
  {
   "cell_type": "code",
   "execution_count": 7,
   "metadata": {},
   "outputs": [],
   "source": [
    "womens.drop('Unnamed: 0', axis=1, inplace=True)"
   ]
  },
  {
   "cell_type": "code",
   "execution_count": 8,
   "metadata": {},
   "outputs": [
    {
     "data": {
      "text/html": [
       "<div>\n",
       "<style scoped>\n",
       "    .dataframe tbody tr th:only-of-type {\n",
       "        vertical-align: middle;\n",
       "    }\n",
       "\n",
       "    .dataframe tbody tr th {\n",
       "        vertical-align: top;\n",
       "    }\n",
       "\n",
       "    .dataframe thead th {\n",
       "        text-align: right;\n",
       "    }\n",
       "</style>\n",
       "<table border=\"1\" class=\"dataframe\">\n",
       "  <thead>\n",
       "    <tr style=\"text-align: right;\">\n",
       "      <th></th>\n",
       "      <th>subreddit</th>\n",
       "      <th>selftext</th>\n",
       "      <th>title</th>\n",
       "    </tr>\n",
       "  </thead>\n",
       "  <tbody>\n",
       "    <tr>\n",
       "      <th>0</th>\n",
       "      <td>femalefashionadvice</td>\n",
       "      <td>I hate how mittens or woolen gloves look. It's...</td>\n",
       "      <td>What are some good looking but also comfy warm...</td>\n",
       "    </tr>\n",
       "    <tr>\n",
       "      <th>1</th>\n",
       "      <td>femalefashionadvice</td>\n",
       "      <td>Whether you’re trying to decipher your cousin’...</td>\n",
       "      <td>Weddings, Parties, and Events - January 27, 2020</td>\n",
       "    </tr>\n",
       "  </tbody>\n",
       "</table>\n",
       "</div>"
      ],
      "text/plain": [
       "             subreddit                                           selftext  \\\n",
       "0  femalefashionadvice  I hate how mittens or woolen gloves look. It's...   \n",
       "1  femalefashionadvice  Whether you’re trying to decipher your cousin’...   \n",
       "\n",
       "                                               title  \n",
       "0  What are some good looking but also comfy warm...  \n",
       "1   Weddings, Parties, and Events - January 27, 2020  "
      ]
     },
     "execution_count": 8,
     "metadata": {},
     "output_type": "execute_result"
    }
   ],
   "source": [
    "womens.head(2)"
   ]
  },
  {
   "cell_type": "code",
   "execution_count": 9,
   "metadata": {},
   "outputs": [],
   "source": [
    "fashion = pd.concat([mens, womens], ignore_index=True, sort =False)"
   ]
  },
  {
   "cell_type": "code",
   "execution_count": 10,
   "metadata": {},
   "outputs": [
    {
     "data": {
      "text/html": [
       "<div>\n",
       "<style scoped>\n",
       "    .dataframe tbody tr th:only-of-type {\n",
       "        vertical-align: middle;\n",
       "    }\n",
       "\n",
       "    .dataframe tbody tr th {\n",
       "        vertical-align: top;\n",
       "    }\n",
       "\n",
       "    .dataframe thead th {\n",
       "        text-align: right;\n",
       "    }\n",
       "</style>\n",
       "<table border=\"1\" class=\"dataframe\">\n",
       "  <thead>\n",
       "    <tr style=\"text-align: right;\">\n",
       "      <th></th>\n",
       "      <th>subreddit</th>\n",
       "      <th>selftext</th>\n",
       "      <th>title</th>\n",
       "    </tr>\n",
       "  </thead>\n",
       "  <tbody>\n",
       "    <tr>\n",
       "      <th>0</th>\n",
       "      <td>malefashionadvice</td>\n",
       "      <td>NaN</td>\n",
       "      <td>Fast Drying Mens 100% Cotton Gym Towels</td>\n",
       "    </tr>\n",
       "    <tr>\n",
       "      <th>1</th>\n",
       "      <td>malefashionadvice</td>\n",
       "      <td>[removed]</td>\n",
       "      <td>Looking For Boots</td>\n",
       "    </tr>\n",
       "    <tr>\n",
       "      <th>2</th>\n",
       "      <td>malefashionadvice</td>\n",
       "      <td>NaN</td>\n",
       "      <td>Drew today's outfit</td>\n",
       "    </tr>\n",
       "    <tr>\n",
       "      <th>3</th>\n",
       "      <td>malefashionadvice</td>\n",
       "      <td>[removed]</td>\n",
       "      <td>Advice for collars for the well dressed Man on...</td>\n",
       "    </tr>\n",
       "    <tr>\n",
       "      <th>4</th>\n",
       "      <td>malefashionadvice</td>\n",
       "      <td>Figured maybe I could get some help from other...</td>\n",
       "      <td>need help finding these mens 3\" or 4\" soffe sh...</td>\n",
       "    </tr>\n",
       "  </tbody>\n",
       "</table>\n",
       "</div>"
      ],
      "text/plain": [
       "           subreddit                                           selftext  \\\n",
       "0  malefashionadvice                                                NaN   \n",
       "1  malefashionadvice                                          [removed]   \n",
       "2  malefashionadvice                                                NaN   \n",
       "3  malefashionadvice                                          [removed]   \n",
       "4  malefashionadvice  Figured maybe I could get some help from other...   \n",
       "\n",
       "                                               title  \n",
       "0            Fast Drying Mens 100% Cotton Gym Towels  \n",
       "1                                  Looking For Boots  \n",
       "2                                Drew today's outfit  \n",
       "3  Advice for collars for the well dressed Man on...  \n",
       "4  need help finding these mens 3\" or 4\" soffe sh...  "
      ]
     },
     "execution_count": 10,
     "metadata": {},
     "output_type": "execute_result"
    }
   ],
   "source": [
    "fashion.head()"
   ]
  },
  {
   "cell_type": "code",
   "execution_count": 11,
   "metadata": {},
   "outputs": [
    {
     "data": {
      "text/html": [
       "<div>\n",
       "<style scoped>\n",
       "    .dataframe tbody tr th:only-of-type {\n",
       "        vertical-align: middle;\n",
       "    }\n",
       "\n",
       "    .dataframe tbody tr th {\n",
       "        vertical-align: top;\n",
       "    }\n",
       "\n",
       "    .dataframe thead th {\n",
       "        text-align: right;\n",
       "    }\n",
       "</style>\n",
       "<table border=\"1\" class=\"dataframe\">\n",
       "  <thead>\n",
       "    <tr style=\"text-align: right;\">\n",
       "      <th></th>\n",
       "      <th>subreddit</th>\n",
       "      <th>selftext</th>\n",
       "      <th>title</th>\n",
       "    </tr>\n",
       "  </thead>\n",
       "  <tbody>\n",
       "    <tr>\n",
       "      <th>10995</th>\n",
       "      <td>femalefashionadvice</td>\n",
       "      <td>Have a couple photos you love but enough to ma...</td>\n",
       "      <td>Share &amp;amp; Request Inspo - September 12, 2019</td>\n",
       "    </tr>\n",
       "    <tr>\n",
       "      <th>10996</th>\n",
       "      <td>femalefashionadvice</td>\n",
       "      <td>Hi, r/femalefashionadvice! I think many of you...</td>\n",
       "      <td>The plus size era is over before it began</td>\n",
       "    </tr>\n",
       "    <tr>\n",
       "      <th>10997</th>\n",
       "      <td>femalefashionadvice</td>\n",
       "      <td>I feel like this fits in this sub. Hear me out...</td>\n",
       "      <td>Let's talk about deodorant</td>\n",
       "    </tr>\n",
       "    <tr>\n",
       "      <th>10998</th>\n",
       "      <td>femalefashionadvice</td>\n",
       "      <td>Use this post as an opportunity to gush all ab...</td>\n",
       "      <td>What’s been your greatest find recently and wh...</td>\n",
       "    </tr>\n",
       "    <tr>\n",
       "      <th>10999</th>\n",
       "      <td>femalefashionadvice</td>\n",
       "      <td>I'm starting a journey through the Curated Clo...</td>\n",
       "      <td>Curated Closet - Plus Size Gal</td>\n",
       "    </tr>\n",
       "  </tbody>\n",
       "</table>\n",
       "</div>"
      ],
      "text/plain": [
       "                 subreddit                                           selftext  \\\n",
       "10995  femalefashionadvice  Have a couple photos you love but enough to ma...   \n",
       "10996  femalefashionadvice  Hi, r/femalefashionadvice! I think many of you...   \n",
       "10997  femalefashionadvice  I feel like this fits in this sub. Hear me out...   \n",
       "10998  femalefashionadvice  Use this post as an opportunity to gush all ab...   \n",
       "10999  femalefashionadvice  I'm starting a journey through the Curated Clo...   \n",
       "\n",
       "                                                   title  \n",
       "10995     Share &amp; Request Inspo - September 12, 2019  \n",
       "10996          The plus size era is over before it began  \n",
       "10997                         Let's talk about deodorant  \n",
       "10998  What’s been your greatest find recently and wh...  \n",
       "10999                     Curated Closet - Plus Size Gal  "
      ]
     },
     "execution_count": 11,
     "metadata": {},
     "output_type": "execute_result"
    }
   ],
   "source": [
    "fashion.tail()"
   ]
  },
  {
   "cell_type": "markdown",
   "metadata": {},
   "source": [
    "#### In the above code, I read in the csv files, looked at them using .head() and dropped the unneccesary Unnamed:0 column. Then I concated the mens fashion and the female fashion together"
   ]
  },
  {
   "cell_type": "code",
   "execution_count": 12,
   "metadata": {
    "scrolled": true
   },
   "outputs": [
    {
     "data": {
      "text/plain": [
       "146"
      ]
     },
     "execution_count": 12,
     "metadata": {},
     "output_type": "execute_result"
    }
   ],
   "source": [
    "fashion.duplicated().sum()"
   ]
  },
  {
   "cell_type": "code",
   "execution_count": 13,
   "metadata": {},
   "outputs": [
    {
     "data": {
      "text/html": [
       "<div>\n",
       "<style scoped>\n",
       "    .dataframe tbody tr th:only-of-type {\n",
       "        vertical-align: middle;\n",
       "    }\n",
       "\n",
       "    .dataframe tbody tr th {\n",
       "        vertical-align: top;\n",
       "    }\n",
       "\n",
       "    .dataframe thead th {\n",
       "        text-align: right;\n",
       "    }\n",
       "</style>\n",
       "<table border=\"1\" class=\"dataframe\">\n",
       "  <thead>\n",
       "    <tr style=\"text-align: right;\">\n",
       "      <th></th>\n",
       "      <th>subreddit</th>\n",
       "      <th>selftext</th>\n",
       "      <th>title</th>\n",
       "    </tr>\n",
       "  </thead>\n",
       "  <tbody>\n",
       "    <tr>\n",
       "      <th>17</th>\n",
       "      <td>malefashionadvice</td>\n",
       "      <td>NaN</td>\n",
       "      <td>How to Potty Train your Puppy EASILY! Everythi...</td>\n",
       "    </tr>\n",
       "    <tr>\n",
       "      <th>90</th>\n",
       "      <td>malefashionadvice</td>\n",
       "      <td>NaN</td>\n",
       "      <td>This Acne miracle has 11,000 5 Star Reviews</td>\n",
       "    </tr>\n",
       "    <tr>\n",
       "      <th>105</th>\n",
       "      <td>malefashionadvice</td>\n",
       "      <td>NaN</td>\n",
       "      <td>This Acne miracle has 11,000 5 Star Reviews</td>\n",
       "    </tr>\n",
       "    <tr>\n",
       "      <th>139</th>\n",
       "      <td>malefashionadvice</td>\n",
       "      <td>NaN</td>\n",
       "      <td>What shoes are these?</td>\n",
       "    </tr>\n",
       "    <tr>\n",
       "      <th>144</th>\n",
       "      <td>malefashionadvice</td>\n",
       "      <td>NaN</td>\n",
       "      <td>Top Down / Aerial / Crotch Shot WAYWT</td>\n",
       "    </tr>\n",
       "    <tr>\n",
       "      <th>...</th>\n",
       "      <td>...</td>\n",
       "      <td>...</td>\n",
       "      <td>...</td>\n",
       "    </tr>\n",
       "    <tr>\n",
       "      <th>9923</th>\n",
       "      <td>femalefashionadvice</td>\n",
       "      <td>[removed]</td>\n",
       "      <td>What is the name of this style?</td>\n",
       "    </tr>\n",
       "    <tr>\n",
       "      <th>10261</th>\n",
       "      <td>femalefashionadvice</td>\n",
       "      <td>[removed]</td>\n",
       "      <td>Need help with houndstooth dress outfit</td>\n",
       "    </tr>\n",
       "    <tr>\n",
       "      <th>10262</th>\n",
       "      <td>femalefashionadvice</td>\n",
       "      <td>[removed]</td>\n",
       "      <td>Need help with houndstooth dress outfit</td>\n",
       "    </tr>\n",
       "    <tr>\n",
       "      <th>10392</th>\n",
       "      <td>femalefashionadvice</td>\n",
       "      <td>[removed]</td>\n",
       "      <td>Wedding Guest Dresses</td>\n",
       "    </tr>\n",
       "    <tr>\n",
       "      <th>10523</th>\n",
       "      <td>femalefashionadvice</td>\n",
       "      <td>[removed]</td>\n",
       "      <td>Wedding Guest Dresses</td>\n",
       "    </tr>\n",
       "  </tbody>\n",
       "</table>\n",
       "<p>250 rows × 3 columns</p>\n",
       "</div>"
      ],
      "text/plain": [
       "                 subreddit   selftext  \\\n",
       "17       malefashionadvice        NaN   \n",
       "90       malefashionadvice        NaN   \n",
       "105      malefashionadvice        NaN   \n",
       "139      malefashionadvice        NaN   \n",
       "144      malefashionadvice        NaN   \n",
       "...                    ...        ...   \n",
       "9923   femalefashionadvice  [removed]   \n",
       "10261  femalefashionadvice  [removed]   \n",
       "10262  femalefashionadvice  [removed]   \n",
       "10392  femalefashionadvice  [removed]   \n",
       "10523  femalefashionadvice  [removed]   \n",
       "\n",
       "                                                   title  \n",
       "17     How to Potty Train your Puppy EASILY! Everythi...  \n",
       "90           This Acne miracle has 11,000 5 Star Reviews  \n",
       "105          This Acne miracle has 11,000 5 Star Reviews  \n",
       "139                                What shoes are these?  \n",
       "144                Top Down / Aerial / Crotch Shot WAYWT  \n",
       "...                                                  ...  \n",
       "9923                     What is the name of this style?  \n",
       "10261            Need help with houndstooth dress outfit  \n",
       "10262            Need help with houndstooth dress outfit  \n",
       "10392                              Wedding Guest Dresses  \n",
       "10523                              Wedding Guest Dresses  \n",
       "\n",
       "[250 rows x 3 columns]"
      ]
     },
     "execution_count": 13,
     "metadata": {},
     "output_type": "execute_result"
    }
   ],
   "source": [
    "fashion[fashion.duplicated(keep=False) == True]"
   ]
  },
  {
   "cell_type": "code",
   "execution_count": 14,
   "metadata": {},
   "outputs": [],
   "source": [
    "fashion.drop_duplicates(inplace=True)"
   ]
  },
  {
   "cell_type": "code",
   "execution_count": 15,
   "metadata": {},
   "outputs": [
    {
     "data": {
      "text/plain": [
       "0"
      ]
     },
     "execution_count": 15,
     "metadata": {},
     "output_type": "execute_result"
    }
   ],
   "source": [
    "fashion.duplicated().sum()"
   ]
  },
  {
   "cell_type": "code",
   "execution_count": 16,
   "metadata": {},
   "outputs": [
    {
     "name": "stdout",
     "output_type": "stream",
     "text": [
      "<class 'pandas.core.frame.DataFrame'>\n",
      "Int64Index: 10854 entries, 0 to 10999\n",
      "Data columns (total 3 columns):\n",
      "subreddit    10854 non-null object\n",
      "selftext     9016 non-null object\n",
      "title        10854 non-null object\n",
      "dtypes: object(3)\n",
      "memory usage: 339.2+ KB\n"
     ]
    }
   ],
   "source": [
    "fashion.info()"
   ]
  },
  {
   "cell_type": "code",
   "execution_count": 17,
   "metadata": {
    "scrolled": true
   },
   "outputs": [
    {
     "data": {
      "text/plain": [
       "subreddit       0\n",
       "selftext     1838\n",
       "title           0\n",
       "dtype: int64"
      ]
     },
     "execution_count": 17,
     "metadata": {},
     "output_type": "execute_result"
    }
   ],
   "source": [
    "fashion.isnull().sum()"
   ]
  },
  {
   "cell_type": "code",
   "execution_count": 18,
   "metadata": {},
   "outputs": [
    {
     "data": {
      "text/html": [
       "<div>\n",
       "<style scoped>\n",
       "    .dataframe tbody tr th:only-of-type {\n",
       "        vertical-align: middle;\n",
       "    }\n",
       "\n",
       "    .dataframe tbody tr th {\n",
       "        vertical-align: top;\n",
       "    }\n",
       "\n",
       "    .dataframe thead th {\n",
       "        text-align: right;\n",
       "    }\n",
       "</style>\n",
       "<table border=\"1\" class=\"dataframe\">\n",
       "  <thead>\n",
       "    <tr style=\"text-align: right;\">\n",
       "      <th></th>\n",
       "      <th>subreddit</th>\n",
       "      <th>selftext</th>\n",
       "      <th>title</th>\n",
       "    </tr>\n",
       "  </thead>\n",
       "  <tbody>\n",
       "    <tr>\n",
       "      <th>0</th>\n",
       "      <td>malefashionadvice</td>\n",
       "      <td>NaN</td>\n",
       "      <td>Fast Drying Mens 100% Cotton Gym Towels</td>\n",
       "    </tr>\n",
       "    <tr>\n",
       "      <th>1</th>\n",
       "      <td>malefashionadvice</td>\n",
       "      <td>[removed]</td>\n",
       "      <td>Looking For Boots</td>\n",
       "    </tr>\n",
       "    <tr>\n",
       "      <th>2</th>\n",
       "      <td>malefashionadvice</td>\n",
       "      <td>NaN</td>\n",
       "      <td>Drew today's outfit</td>\n",
       "    </tr>\n",
       "    <tr>\n",
       "      <th>3</th>\n",
       "      <td>malefashionadvice</td>\n",
       "      <td>[removed]</td>\n",
       "      <td>Advice for collars for the well dressed Man on...</td>\n",
       "    </tr>\n",
       "    <tr>\n",
       "      <th>4</th>\n",
       "      <td>malefashionadvice</td>\n",
       "      <td>Figured maybe I could get some help from other...</td>\n",
       "      <td>need help finding these mens 3\" or 4\" soffe sh...</td>\n",
       "    </tr>\n",
       "  </tbody>\n",
       "</table>\n",
       "</div>"
      ],
      "text/plain": [
       "           subreddit                                           selftext  \\\n",
       "0  malefashionadvice                                                NaN   \n",
       "1  malefashionadvice                                          [removed]   \n",
       "2  malefashionadvice                                                NaN   \n",
       "3  malefashionadvice                                          [removed]   \n",
       "4  malefashionadvice  Figured maybe I could get some help from other...   \n",
       "\n",
       "                                               title  \n",
       "0            Fast Drying Mens 100% Cotton Gym Towels  \n",
       "1                                  Looking For Boots  \n",
       "2                                Drew today's outfit  \n",
       "3  Advice for collars for the well dressed Man on...  \n",
       "4  need help finding these mens 3\" or 4\" soffe sh...  "
      ]
     },
     "execution_count": 18,
     "metadata": {},
     "output_type": "execute_result"
    }
   ],
   "source": [
    "fashion.head()"
   ]
  },
  {
   "cell_type": "markdown",
   "metadata": {},
   "source": [
    "#### In the above code, I dropped duplicate columns"
   ]
  },
  {
   "cell_type": "code",
   "execution_count": 19,
   "metadata": {},
   "outputs": [],
   "source": [
    "fashion[\"selftext\"].fillna('at', inplace = True)"
   ]
  },
  {
   "cell_type": "code",
   "execution_count": 20,
   "metadata": {},
   "outputs": [
    {
     "data": {
      "text/html": [
       "<div>\n",
       "<style scoped>\n",
       "    .dataframe tbody tr th:only-of-type {\n",
       "        vertical-align: middle;\n",
       "    }\n",
       "\n",
       "    .dataframe tbody tr th {\n",
       "        vertical-align: top;\n",
       "    }\n",
       "\n",
       "    .dataframe thead th {\n",
       "        text-align: right;\n",
       "    }\n",
       "</style>\n",
       "<table border=\"1\" class=\"dataframe\">\n",
       "  <thead>\n",
       "    <tr style=\"text-align: right;\">\n",
       "      <th></th>\n",
       "      <th>subreddit</th>\n",
       "      <th>selftext</th>\n",
       "      <th>title</th>\n",
       "    </tr>\n",
       "  </thead>\n",
       "  <tbody>\n",
       "    <tr>\n",
       "      <th>0</th>\n",
       "      <td>malefashionadvice</td>\n",
       "      <td>at</td>\n",
       "      <td>Fast Drying Mens 100% Cotton Gym Towels</td>\n",
       "    </tr>\n",
       "    <tr>\n",
       "      <th>1</th>\n",
       "      <td>malefashionadvice</td>\n",
       "      <td>[removed]</td>\n",
       "      <td>Looking For Boots</td>\n",
       "    </tr>\n",
       "  </tbody>\n",
       "</table>\n",
       "</div>"
      ],
      "text/plain": [
       "           subreddit   selftext                                    title\n",
       "0  malefashionadvice         at  Fast Drying Mens 100% Cotton Gym Towels\n",
       "1  malefashionadvice  [removed]                        Looking For Boots"
      ]
     },
     "execution_count": 20,
     "metadata": {},
     "output_type": "execute_result"
    }
   ],
   "source": [
    "fashion.head(2)"
   ]
  },
  {
   "cell_type": "code",
   "execution_count": 21,
   "metadata": {},
   "outputs": [],
   "source": [
    "fashion['selftext'] = fashion['selftext'].replace(['[removed]'], 'at')"
   ]
  },
  {
   "cell_type": "code",
   "execution_count": 22,
   "metadata": {},
   "outputs": [],
   "source": [
    "fashion['selftext_lower']  = fashion['selftext'].str.lower()"
   ]
  },
  {
   "cell_type": "code",
   "execution_count": 23,
   "metadata": {},
   "outputs": [],
   "source": [
    "fashion['title_lower'] = fashion['title'].str.lower()"
   ]
  },
  {
   "cell_type": "code",
   "execution_count": 24,
   "metadata": {},
   "outputs": [
    {
     "data": {
      "text/html": [
       "<div>\n",
       "<style scoped>\n",
       "    .dataframe tbody tr th:only-of-type {\n",
       "        vertical-align: middle;\n",
       "    }\n",
       "\n",
       "    .dataframe tbody tr th {\n",
       "        vertical-align: top;\n",
       "    }\n",
       "\n",
       "    .dataframe thead th {\n",
       "        text-align: right;\n",
       "    }\n",
       "</style>\n",
       "<table border=\"1\" class=\"dataframe\">\n",
       "  <thead>\n",
       "    <tr style=\"text-align: right;\">\n",
       "      <th></th>\n",
       "      <th>subreddit</th>\n",
       "      <th>selftext</th>\n",
       "      <th>title</th>\n",
       "      <th>selftext_lower</th>\n",
       "      <th>title_lower</th>\n",
       "    </tr>\n",
       "  </thead>\n",
       "  <tbody>\n",
       "    <tr>\n",
       "      <th>0</th>\n",
       "      <td>malefashionadvice</td>\n",
       "      <td>at</td>\n",
       "      <td>Fast Drying Mens 100% Cotton Gym Towels</td>\n",
       "      <td>at</td>\n",
       "      <td>fast drying mens 100% cotton gym towels</td>\n",
       "    </tr>\n",
       "    <tr>\n",
       "      <th>1</th>\n",
       "      <td>malefashionadvice</td>\n",
       "      <td>at</td>\n",
       "      <td>Looking For Boots</td>\n",
       "      <td>at</td>\n",
       "      <td>looking for boots</td>\n",
       "    </tr>\n",
       "    <tr>\n",
       "      <th>2</th>\n",
       "      <td>malefashionadvice</td>\n",
       "      <td>at</td>\n",
       "      <td>Drew today's outfit</td>\n",
       "      <td>at</td>\n",
       "      <td>drew today's outfit</td>\n",
       "    </tr>\n",
       "    <tr>\n",
       "      <th>3</th>\n",
       "      <td>malefashionadvice</td>\n",
       "      <td>at</td>\n",
       "      <td>Advice for collars for the well dressed Man on...</td>\n",
       "      <td>at</td>\n",
       "      <td>advice for collars for the well dressed man on...</td>\n",
       "    </tr>\n",
       "    <tr>\n",
       "      <th>4</th>\n",
       "      <td>malefashionadvice</td>\n",
       "      <td>Figured maybe I could get some help from other...</td>\n",
       "      <td>need help finding these mens 3\" or 4\" soffe sh...</td>\n",
       "      <td>figured maybe i could get some help from other...</td>\n",
       "      <td>need help finding these mens 3\" or 4\" soffe sh...</td>\n",
       "    </tr>\n",
       "  </tbody>\n",
       "</table>\n",
       "</div>"
      ],
      "text/plain": [
       "           subreddit                                           selftext  \\\n",
       "0  malefashionadvice                                                 at   \n",
       "1  malefashionadvice                                                 at   \n",
       "2  malefashionadvice                                                 at   \n",
       "3  malefashionadvice                                                 at   \n",
       "4  malefashionadvice  Figured maybe I could get some help from other...   \n",
       "\n",
       "                                               title  \\\n",
       "0            Fast Drying Mens 100% Cotton Gym Towels   \n",
       "1                                  Looking For Boots   \n",
       "2                                Drew today's outfit   \n",
       "3  Advice for collars for the well dressed Man on...   \n",
       "4  need help finding these mens 3\" or 4\" soffe sh...   \n",
       "\n",
       "                                      selftext_lower  \\\n",
       "0                                                 at   \n",
       "1                                                 at   \n",
       "2                                                 at   \n",
       "3                                                 at   \n",
       "4  figured maybe i could get some help from other...   \n",
       "\n",
       "                                         title_lower  \n",
       "0            fast drying mens 100% cotton gym towels  \n",
       "1                                  looking for boots  \n",
       "2                                drew today's outfit  \n",
       "3  advice for collars for the well dressed man on...  \n",
       "4  need help finding these mens 3\" or 4\" soffe sh...  "
      ]
     },
     "execution_count": 24,
     "metadata": {},
     "output_type": "execute_result"
    }
   ],
   "source": [
    "fashion.head()"
   ]
  },
  {
   "cell_type": "markdown",
   "metadata": {},
   "source": [
    "#### In the above code I replaced the null values and the [removed] values with a stop word. The stop word will be taken out later when added to countvectorizer"
   ]
  },
  {
   "cell_type": "code",
   "execution_count": 25,
   "metadata": {},
   "outputs": [],
   "source": [
    "fashion['title_lower'] = fashion['title_lower'].replace('[^a-zA-Z ]', '', regex=True)"
   ]
  },
  {
   "cell_type": "code",
   "execution_count": 26,
   "metadata": {},
   "outputs": [
    {
     "data": {
      "text/html": [
       "<div>\n",
       "<style scoped>\n",
       "    .dataframe tbody tr th:only-of-type {\n",
       "        vertical-align: middle;\n",
       "    }\n",
       "\n",
       "    .dataframe tbody tr th {\n",
       "        vertical-align: top;\n",
       "    }\n",
       "\n",
       "    .dataframe thead th {\n",
       "        text-align: right;\n",
       "    }\n",
       "</style>\n",
       "<table border=\"1\" class=\"dataframe\">\n",
       "  <thead>\n",
       "    <tr style=\"text-align: right;\">\n",
       "      <th></th>\n",
       "      <th>subreddit</th>\n",
       "      <th>selftext</th>\n",
       "      <th>title</th>\n",
       "      <th>selftext_lower</th>\n",
       "      <th>title_lower</th>\n",
       "    </tr>\n",
       "  </thead>\n",
       "  <tbody>\n",
       "    <tr>\n",
       "      <th>0</th>\n",
       "      <td>malefashionadvice</td>\n",
       "      <td>at</td>\n",
       "      <td>Fast Drying Mens 100% Cotton Gym Towels</td>\n",
       "      <td>at</td>\n",
       "      <td>fast drying mens  cotton gym towels</td>\n",
       "    </tr>\n",
       "    <tr>\n",
       "      <th>1</th>\n",
       "      <td>malefashionadvice</td>\n",
       "      <td>at</td>\n",
       "      <td>Looking For Boots</td>\n",
       "      <td>at</td>\n",
       "      <td>looking for boots</td>\n",
       "    </tr>\n",
       "    <tr>\n",
       "      <th>2</th>\n",
       "      <td>malefashionadvice</td>\n",
       "      <td>at</td>\n",
       "      <td>Drew today's outfit</td>\n",
       "      <td>at</td>\n",
       "      <td>drew todays outfit</td>\n",
       "    </tr>\n",
       "    <tr>\n",
       "      <th>3</th>\n",
       "      <td>malefashionadvice</td>\n",
       "      <td>at</td>\n",
       "      <td>Advice for collars for the well dressed Man on...</td>\n",
       "      <td>at</td>\n",
       "      <td>advice for collars for the well dressed man on...</td>\n",
       "    </tr>\n",
       "    <tr>\n",
       "      <th>4</th>\n",
       "      <td>malefashionadvice</td>\n",
       "      <td>Figured maybe I could get some help from other...</td>\n",
       "      <td>need help finding these mens 3\" or 4\" soffe sh...</td>\n",
       "      <td>figured maybe i could get some help from other...</td>\n",
       "      <td>need help finding these mens  or  soffe shorts...</td>\n",
       "    </tr>\n",
       "  </tbody>\n",
       "</table>\n",
       "</div>"
      ],
      "text/plain": [
       "           subreddit                                           selftext  \\\n",
       "0  malefashionadvice                                                 at   \n",
       "1  malefashionadvice                                                 at   \n",
       "2  malefashionadvice                                                 at   \n",
       "3  malefashionadvice                                                 at   \n",
       "4  malefashionadvice  Figured maybe I could get some help from other...   \n",
       "\n",
       "                                               title  \\\n",
       "0            Fast Drying Mens 100% Cotton Gym Towels   \n",
       "1                                  Looking For Boots   \n",
       "2                                Drew today's outfit   \n",
       "3  Advice for collars for the well dressed Man on...   \n",
       "4  need help finding these mens 3\" or 4\" soffe sh...   \n",
       "\n",
       "                                      selftext_lower  \\\n",
       "0                                                 at   \n",
       "1                                                 at   \n",
       "2                                                 at   \n",
       "3                                                 at   \n",
       "4  figured maybe i could get some help from other...   \n",
       "\n",
       "                                         title_lower  \n",
       "0                fast drying mens  cotton gym towels  \n",
       "1                                  looking for boots  \n",
       "2                                 drew todays outfit  \n",
       "3  advice for collars for the well dressed man on...  \n",
       "4  need help finding these mens  or  soffe shorts...  "
      ]
     },
     "execution_count": 26,
     "metadata": {},
     "output_type": "execute_result"
    }
   ],
   "source": [
    "fashion.head()"
   ]
  },
  {
   "cell_type": "code",
   "execution_count": 27,
   "metadata": {},
   "outputs": [],
   "source": [
    "fashion['selftext_lower'] = fashion['selftext_lower'].replace('[^a-zA-Z ]', '', regex=True)"
   ]
  },
  {
   "cell_type": "markdown",
   "metadata": {},
   "source": [
    "#### In the above code I only kept letters, I already lowered cased the words."
   ]
  },
  {
   "cell_type": "code",
   "execution_count": 28,
   "metadata": {
    "scrolled": true
   },
   "outputs": [
    {
     "data": {
      "text/html": [
       "<div>\n",
       "<style scoped>\n",
       "    .dataframe tbody tr th:only-of-type {\n",
       "        vertical-align: middle;\n",
       "    }\n",
       "\n",
       "    .dataframe tbody tr th {\n",
       "        vertical-align: top;\n",
       "    }\n",
       "\n",
       "    .dataframe thead th {\n",
       "        text-align: right;\n",
       "    }\n",
       "</style>\n",
       "<table border=\"1\" class=\"dataframe\">\n",
       "  <thead>\n",
       "    <tr style=\"text-align: right;\">\n",
       "      <th></th>\n",
       "      <th>subreddit</th>\n",
       "      <th>selftext</th>\n",
       "      <th>title</th>\n",
       "      <th>selftext_lower</th>\n",
       "      <th>title_lower</th>\n",
       "    </tr>\n",
       "  </thead>\n",
       "  <tbody>\n",
       "    <tr>\n",
       "      <th>0</th>\n",
       "      <td>0</td>\n",
       "      <td>at</td>\n",
       "      <td>Fast Drying Mens 100% Cotton Gym Towels</td>\n",
       "      <td>at</td>\n",
       "      <td>fast drying mens  cotton gym towels</td>\n",
       "    </tr>\n",
       "    <tr>\n",
       "      <th>1</th>\n",
       "      <td>0</td>\n",
       "      <td>at</td>\n",
       "      <td>Looking For Boots</td>\n",
       "      <td>at</td>\n",
       "      <td>looking for boots</td>\n",
       "    </tr>\n",
       "    <tr>\n",
       "      <th>2</th>\n",
       "      <td>0</td>\n",
       "      <td>at</td>\n",
       "      <td>Drew today's outfit</td>\n",
       "      <td>at</td>\n",
       "      <td>drew todays outfit</td>\n",
       "    </tr>\n",
       "    <tr>\n",
       "      <th>3</th>\n",
       "      <td>0</td>\n",
       "      <td>at</td>\n",
       "      <td>Advice for collars for the well dressed Man on...</td>\n",
       "      <td>at</td>\n",
       "      <td>advice for collars for the well dressed man on...</td>\n",
       "    </tr>\n",
       "    <tr>\n",
       "      <th>4</th>\n",
       "      <td>0</td>\n",
       "      <td>Figured maybe I could get some help from other...</td>\n",
       "      <td>need help finding these mens 3\" or 4\" soffe sh...</td>\n",
       "      <td>figured maybe i could get some help from other...</td>\n",
       "      <td>need help finding these mens  or  soffe shorts...</td>\n",
       "    </tr>\n",
       "  </tbody>\n",
       "</table>\n",
       "</div>"
      ],
      "text/plain": [
       "   subreddit                                           selftext  \\\n",
       "0          0                                                 at   \n",
       "1          0                                                 at   \n",
       "2          0                                                 at   \n",
       "3          0                                                 at   \n",
       "4          0  Figured maybe I could get some help from other...   \n",
       "\n",
       "                                               title  \\\n",
       "0            Fast Drying Mens 100% Cotton Gym Towels   \n",
       "1                                  Looking For Boots   \n",
       "2                                Drew today's outfit   \n",
       "3  Advice for collars for the well dressed Man on...   \n",
       "4  need help finding these mens 3\" or 4\" soffe sh...   \n",
       "\n",
       "                                      selftext_lower  \\\n",
       "0                                                 at   \n",
       "1                                                 at   \n",
       "2                                                 at   \n",
       "3                                                 at   \n",
       "4  figured maybe i could get some help from other...   \n",
       "\n",
       "                                         title_lower  \n",
       "0                fast drying mens  cotton gym towels  \n",
       "1                                  looking for boots  \n",
       "2                                 drew todays outfit  \n",
       "3  advice for collars for the well dressed man on...  \n",
       "4  need help finding these mens  or  soffe shorts...  "
      ]
     },
     "execution_count": 28,
     "metadata": {},
     "output_type": "execute_result"
    }
   ],
   "source": [
    "fashion['subreddit'] = fashion['subreddit'].map({'malefashionadvice': 0, 'femalefashionadvice': 1})\n",
    "fashion.head()"
   ]
  },
  {
   "cell_type": "markdown",
   "metadata": {},
   "source": [
    "#### In the above code I mapped 0 to malefashionadvice and 1 to femalefashionadvice"
   ]
  },
  {
   "cell_type": "code",
   "execution_count": 69,
   "metadata": {},
   "outputs": [
    {
     "data": {
      "text/plain": [
       "1    5466\n",
       "0    5388\n",
       "Name: subreddit, dtype: int64"
      ]
     },
     "execution_count": 69,
     "metadata": {},
     "output_type": "execute_result"
    }
   ],
   "source": [
    "#I have relatively balanced classes\n",
    "fashion['subreddit'].value_counts()"
   ]
  },
  {
   "cell_type": "markdown",
   "metadata": {},
   "source": [
    "#### creating my X and y values as well as the train test split.\n",
    "#### after trian test split I will tokenize and lemmatize and run my models."
   ]
  },
  {
   "cell_type": "code",
   "execution_count": 30,
   "metadata": {},
   "outputs": [],
   "source": [
    "X = fashion['title_lower']\n",
    "y = fashion['subreddit']"
   ]
  },
  {
   "cell_type": "code",
   "execution_count": 31,
   "metadata": {},
   "outputs": [],
   "source": [
    "X_train, X_test, y_train, y_test = train_test_split(X, y, test_size=0.3, random_state=42)"
   ]
  },
  {
   "cell_type": "code",
   "execution_count": 32,
   "metadata": {},
   "outputs": [
    {
     "data": {
      "text/plain": [
       "0    0.501382\n",
       "1    0.498618\n",
       "Name: subreddit, dtype: float64"
      ]
     },
     "execution_count": 32,
     "metadata": {},
     "output_type": "execute_result"
    }
   ],
   "source": [
    "#This is the baseline of the project, and the 0 class which is mapped to the malefashionadvice is the 50.1%\n",
    "y_test.value_counts(normalize=True)"
   ]
  },
  {
   "cell_type": "markdown",
   "metadata": {},
   "source": [
    "#### from https://stackoverflow.com/questions/47423854/sklearn-adding-lemmatizer-to-countvectorizer\n",
    "#### this created a class which tokenized and lemmatized and was later used a parameter in countvectorizer"
   ]
  },
  {
   "cell_type": "code",
   "execution_count": 36,
   "metadata": {},
   "outputs": [],
   "source": [
    "from nltk import word_tokenize          \n",
    "from nltk.stem import WordNetLemmatizer \n",
    "class LemmaTokenizer(object):\n",
    "    def __init__(self):\n",
    "        self.wnl = WordNetLemmatizer()\n",
    "    def __call__(self, articles):\n",
    "        return [self.wnl.lemmatize(t) for t in word_tokenize(articles)]"
   ]
  },
  {
   "cell_type": "code",
   "execution_count": 37,
   "metadata": {},
   "outputs": [],
   "source": [
    "cvec = CountVectorizer(tokenizer=LemmaTokenizer(),\n",
    "                                strip_accents = 'unicode', # incase some emoji's were left in \n",
    "                                stop_words = 'english', # english stop words\n",
    "                                lowercase = True,\n",
    "                               #token_pattern = r'\\b[a-zA-Z]{3,}\\b',\n",
    "                                max_df = 0.5,\n",
    "                                min_df = 10) "
   ]
  },
  {
   "cell_type": "markdown",
   "metadata": {},
   "source": [
    "#### Fit and transformed the data on the coutvectorizer to get a dataframe w/ the words"
   ]
  },
  {
   "cell_type": "code",
   "execution_count": 38,
   "metadata": {
    "scrolled": true
   },
   "outputs": [
    {
     "name": "stderr",
     "output_type": "stream",
     "text": [
      "C:\\Users\\Vera\\Anaconda3\\lib\\site-packages\\sklearn\\feature_extraction\\text.py:300: UserWarning: Your stop_words may be inconsistent with your preprocessing. Tokenizing the stop words generated tokens ['ha', 'le', 'u', 'wa'] not in stop_words.\n",
      "  'stop_words.' % sorted(inconsistent))\n"
     ]
    },
    {
     "data": {
      "text/plain": [
       "CountVectorizer(analyzer='word', binary=False, decode_error='strict',\n",
       "                dtype=<class 'numpy.int64'>, encoding='utf-8', input='content',\n",
       "                lowercase=True, max_df=0.5, max_features=None, min_df=10,\n",
       "                ngram_range=(1, 1), preprocessor=None, stop_words='english',\n",
       "                strip_accents='unicode', token_pattern='\\\\b[a-zA-Z]{3,}\\\\b',\n",
       "                tokenizer=<__main__.LemmaTokenizer object at 0x0000011458FE6F08>,\n",
       "                vocabulary=None)"
      ]
     },
     "execution_count": 38,
     "metadata": {},
     "output_type": "execute_result"
    }
   ],
   "source": [
    "cvec.fit(X_train)"
   ]
  },
  {
   "cell_type": "code",
   "execution_count": 39,
   "metadata": {},
   "outputs": [],
   "source": [
    "X_train_df1 = cvec.transform(X_train)"
   ]
  },
  {
   "cell_type": "code",
   "execution_count": 40,
   "metadata": {
    "scrolled": false
   },
   "outputs": [
    {
     "data": {
      "text/html": [
       "<div>\n",
       "<style scoped>\n",
       "    .dataframe tbody tr th:only-of-type {\n",
       "        vertical-align: middle;\n",
       "    }\n",
       "\n",
       "    .dataframe tbody tr th {\n",
       "        vertical-align: top;\n",
       "    }\n",
       "\n",
       "    .dataframe thead th {\n",
       "        text-align: right;\n",
       "    }\n",
       "</style>\n",
       "<table border=\"1\" class=\"dataframe\">\n",
       "  <thead>\n",
       "    <tr style=\"text-align: right;\">\n",
       "      <th></th>\n",
       "      <th>accessory</th>\n",
       "      <th>actually</th>\n",
       "      <th>add</th>\n",
       "      <th>adult</th>\n",
       "      <th>advice</th>\n",
       "      <th>advise</th>\n",
       "      <th>aesthetic</th>\n",
       "      <th>affordable</th>\n",
       "      <th>age</th>\n",
       "      <th>album</th>\n",
       "      <th>...</th>\n",
       "      <th>xl</th>\n",
       "      <th>yall</th>\n",
       "      <th>year</th>\n",
       "      <th>yo</th>\n",
       "      <th>york</th>\n",
       "      <th>young</th>\n",
       "      <th>youre</th>\n",
       "      <th>youve</th>\n",
       "      <th>zara</th>\n",
       "      <th>zip</th>\n",
       "    </tr>\n",
       "  </thead>\n",
       "  <tbody>\n",
       "    <tr>\n",
       "      <th>0</th>\n",
       "      <td>0</td>\n",
       "      <td>0</td>\n",
       "      <td>0</td>\n",
       "      <td>0</td>\n",
       "      <td>0</td>\n",
       "      <td>0</td>\n",
       "      <td>0</td>\n",
       "      <td>0</td>\n",
       "      <td>0</td>\n",
       "      <td>0</td>\n",
       "      <td>...</td>\n",
       "      <td>0</td>\n",
       "      <td>0</td>\n",
       "      <td>0</td>\n",
       "      <td>0</td>\n",
       "      <td>0</td>\n",
       "      <td>0</td>\n",
       "      <td>0</td>\n",
       "      <td>0</td>\n",
       "      <td>0</td>\n",
       "      <td>0</td>\n",
       "    </tr>\n",
       "    <tr>\n",
       "      <th>1</th>\n",
       "      <td>0</td>\n",
       "      <td>0</td>\n",
       "      <td>0</td>\n",
       "      <td>0</td>\n",
       "      <td>0</td>\n",
       "      <td>0</td>\n",
       "      <td>0</td>\n",
       "      <td>0</td>\n",
       "      <td>0</td>\n",
       "      <td>0</td>\n",
       "      <td>...</td>\n",
       "      <td>0</td>\n",
       "      <td>0</td>\n",
       "      <td>0</td>\n",
       "      <td>0</td>\n",
       "      <td>0</td>\n",
       "      <td>0</td>\n",
       "      <td>0</td>\n",
       "      <td>0</td>\n",
       "      <td>0</td>\n",
       "      <td>0</td>\n",
       "    </tr>\n",
       "    <tr>\n",
       "      <th>2</th>\n",
       "      <td>0</td>\n",
       "      <td>0</td>\n",
       "      <td>0</td>\n",
       "      <td>0</td>\n",
       "      <td>0</td>\n",
       "      <td>0</td>\n",
       "      <td>0</td>\n",
       "      <td>0</td>\n",
       "      <td>0</td>\n",
       "      <td>0</td>\n",
       "      <td>...</td>\n",
       "      <td>0</td>\n",
       "      <td>0</td>\n",
       "      <td>0</td>\n",
       "      <td>0</td>\n",
       "      <td>0</td>\n",
       "      <td>0</td>\n",
       "      <td>0</td>\n",
       "      <td>0</td>\n",
       "      <td>0</td>\n",
       "      <td>0</td>\n",
       "    </tr>\n",
       "    <tr>\n",
       "      <th>3</th>\n",
       "      <td>0</td>\n",
       "      <td>0</td>\n",
       "      <td>0</td>\n",
       "      <td>0</td>\n",
       "      <td>0</td>\n",
       "      <td>0</td>\n",
       "      <td>0</td>\n",
       "      <td>0</td>\n",
       "      <td>0</td>\n",
       "      <td>0</td>\n",
       "      <td>...</td>\n",
       "      <td>0</td>\n",
       "      <td>0</td>\n",
       "      <td>0</td>\n",
       "      <td>0</td>\n",
       "      <td>0</td>\n",
       "      <td>0</td>\n",
       "      <td>0</td>\n",
       "      <td>0</td>\n",
       "      <td>0</td>\n",
       "      <td>0</td>\n",
       "    </tr>\n",
       "    <tr>\n",
       "      <th>4</th>\n",
       "      <td>0</td>\n",
       "      <td>0</td>\n",
       "      <td>0</td>\n",
       "      <td>0</td>\n",
       "      <td>0</td>\n",
       "      <td>0</td>\n",
       "      <td>0</td>\n",
       "      <td>0</td>\n",
       "      <td>0</td>\n",
       "      <td>0</td>\n",
       "      <td>...</td>\n",
       "      <td>0</td>\n",
       "      <td>0</td>\n",
       "      <td>0</td>\n",
       "      <td>0</td>\n",
       "      <td>0</td>\n",
       "      <td>0</td>\n",
       "      <td>0</td>\n",
       "      <td>0</td>\n",
       "      <td>0</td>\n",
       "      <td>0</td>\n",
       "    </tr>\n",
       "  </tbody>\n",
       "</table>\n",
       "<p>5 rows × 653 columns</p>\n",
       "</div>"
      ],
      "text/plain": [
       "   accessory  actually  add  adult  advice  advise  aesthetic  affordable  \\\n",
       "0          0         0    0      0       0       0          0           0   \n",
       "1          0         0    0      0       0       0          0           0   \n",
       "2          0         0    0      0       0       0          0           0   \n",
       "3          0         0    0      0       0       0          0           0   \n",
       "4          0         0    0      0       0       0          0           0   \n",
       "\n",
       "   age  album  ...  xl  yall  year  yo  york  young  youre  youve  zara  zip  \n",
       "0    0      0  ...   0     0     0   0     0      0      0      0     0    0  \n",
       "1    0      0  ...   0     0     0   0     0      0      0      0     0    0  \n",
       "2    0      0  ...   0     0     0   0     0      0      0      0     0    0  \n",
       "3    0      0  ...   0     0     0   0     0      0      0      0     0    0  \n",
       "4    0      0  ...   0     0     0   0     0      0      0      0     0    0  \n",
       "\n",
       "[5 rows x 653 columns]"
      ]
     },
     "execution_count": 40,
     "metadata": {},
     "output_type": "execute_result"
    }
   ],
   "source": [
    "X_train_df2 = pd.DataFrame(X_train_df1.toarray(), columns=cvec.get_feature_names())\n",
    "X_train_df2.head()"
   ]
  },
  {
   "cell_type": "code",
   "execution_count": 41,
   "metadata": {},
   "outputs": [],
   "source": [
    "X_test_df = cvec.transform(X_test)"
   ]
  },
  {
   "cell_type": "code",
   "execution_count": 42,
   "metadata": {},
   "outputs": [
    {
     "data": {
      "text/plain": [
       "(7597, 653)"
      ]
     },
     "execution_count": 42,
     "metadata": {},
     "output_type": "execute_result"
    }
   ],
   "source": [
    "X_train_df2.shape"
   ]
  },
  {
   "cell_type": "markdown",
   "metadata": {},
   "source": [
    "#### importing a randomforest classifier and using a gridsearch w/ parameters on the training data and testing data and scoring them to see how they worked compared to the baseline model"
   ]
  },
  {
   "cell_type": "code",
   "execution_count": 44,
   "metadata": {},
   "outputs": [],
   "source": [
    "from sklearn.ensemble import RandomForestClassifier\n",
    "from sklearn.model_selection import GridSearchCV"
   ]
  },
  {
   "cell_type": "code",
   "execution_count": 45,
   "metadata": {
    "scrolled": true
   },
   "outputs": [],
   "source": [
    "# define a RandomForestClassifier\n",
    "rfc = RandomForestClassifier(n_estimators=100)"
   ]
  },
  {
   "cell_type": "code",
   "execution_count": 46,
   "metadata": {},
   "outputs": [],
   "source": [
    "params = {\n",
    "    'min_samples_split': [10, 25, 50]\n",
    "}"
   ]
  },
  {
   "cell_type": "code",
   "execution_count": 47,
   "metadata": {
    "scrolled": false
   },
   "outputs": [
    {
     "data": {
      "text/plain": [
       "GridSearchCV(cv=5, error_score='raise-deprecating',\n",
       "             estimator=RandomForestClassifier(bootstrap=True, class_weight=None,\n",
       "                                              criterion='gini', max_depth=None,\n",
       "                                              max_features='auto',\n",
       "                                              max_leaf_nodes=None,\n",
       "                                              min_impurity_decrease=0.0,\n",
       "                                              min_impurity_split=None,\n",
       "                                              min_samples_leaf=1,\n",
       "                                              min_samples_split=2,\n",
       "                                              min_weight_fraction_leaf=0.0,\n",
       "                                              n_estimators=100, n_jobs=None,\n",
       "                                              oob_score=False,\n",
       "                                              random_state=None, verbose=0,\n",
       "                                              warm_start=False),\n",
       "             iid='warn', n_jobs=None,\n",
       "             param_grid={'min_samples_split': [10, 25, 50]},\n",
       "             pre_dispatch='2*n_jobs', refit=True, return_train_score=True,\n",
       "             scoring=None, verbose=0)"
      ]
     },
     "execution_count": 47,
     "metadata": {},
     "output_type": "execute_result"
    }
   ],
   "source": [
    "gs = GridSearchCV(rfc, param_grid=params, return_train_score=True, cv=5)\n",
    "gs.fit(X_train_df2, y_train)"
   ]
  },
  {
   "cell_type": "code",
   "execution_count": 48,
   "metadata": {},
   "outputs": [
    {
     "data": {
      "text/plain": [
       "0.8523101224167434"
      ]
     },
     "execution_count": 48,
     "metadata": {},
     "output_type": "execute_result"
    }
   ],
   "source": [
    "gs.score(X_train_df2, y_train)"
   ]
  },
  {
   "cell_type": "code",
   "execution_count": 49,
   "metadata": {},
   "outputs": [
    {
     "data": {
      "text/plain": [
       "0.7261283389622352"
      ]
     },
     "execution_count": 49,
     "metadata": {},
     "output_type": "execute_result"
    }
   ],
   "source": [
    "gs.score(X_test_df, y_test) #this is what we compare to the baseline score\n",
    "#My model predicted ~72% accuracy, which is an improvement over this baseline 50% accuracy\n",
    "#(assuming our model always predicts the mensfashion)."
   ]
  },
  {
   "cell_type": "code",
   "execution_count": null,
   "metadata": {},
   "outputs": [],
   "source": [
    "#gs.best_params_"
   ]
  },
  {
   "cell_type": "code",
   "execution_count": 50,
   "metadata": {},
   "outputs": [
    {
     "data": {
      "text/plain": [
       "array([0.00126118, 0.00065642, 0.00034209, 0.00092943, 0.00263965,\n",
       "       0.00091177, 0.00083814, 0.00174242, 0.00141641, 0.00126834,\n",
       "       0.00251687, 0.00038247, 0.00097787, 0.00083989, 0.00196645,\n",
       "       0.00120302, 0.00450744, 0.00087269, 0.00037204, 0.00011542,\n",
       "       0.00040219, 0.00097742, 0.00171067, 0.00084714, 0.00089957,\n",
       "       0.00404615, 0.00044647, 0.00111425, 0.00090547, 0.00058802,\n",
       "       0.00046312, 0.00089691, 0.0008571 , 0.00202564, 0.00176149,\n",
       "       0.00085749, 0.00056546, 0.00132506, 0.00073589, 0.00124138,\n",
       "       0.00350429, 0.00241685, 0.00194904, 0.00109387, 0.00043507,\n",
       "       0.00049345, 0.00339261, 0.00151172, 0.00147069, 0.00485517,\n",
       "       0.00074745, 0.00344958, 0.00049197, 0.00119234, 0.00105208,\n",
       "       0.00107639, 0.00723995, 0.00033343, 0.00197385, 0.00064902,\n",
       "       0.00166216, 0.00104573, 0.00074324, 0.00211114, 0.00052044,\n",
       "       0.00152101, 0.00059322, 0.00305944, 0.00277035, 0.00137451,\n",
       "       0.00134583, 0.00072879, 0.00018147, 0.00097254, 0.00114392,\n",
       "       0.00177138, 0.00034413, 0.00053562, 0.00237757, 0.00062644,\n",
       "       0.00087248, 0.00097271, 0.00054272, 0.00060302, 0.00049785,\n",
       "       0.00018707, 0.0003631 , 0.00276162, 0.00058876, 0.00050125,\n",
       "       0.00033229, 0.00133178, 0.00052919, 0.00064392, 0.00102595,\n",
       "       0.000567  , 0.00225341, 0.00243477, 0.0030596 , 0.00023212,\n",
       "       0.00262889, 0.00032951, 0.00106391, 0.00095997, 0.00407942,\n",
       "       0.0007198 , 0.00134901, 0.00082689, 0.00128446, 0.00037486,\n",
       "       0.00067169, 0.00053943, 0.00048107, 0.000481  , 0.00154815,\n",
       "       0.00038204, 0.00046607, 0.00095952, 0.00183513, 0.00104804,\n",
       "       0.00068948, 0.00111276, 0.00034665, 0.00111695, 0.00022982,\n",
       "       0.0004477 , 0.00101488, 0.00051374, 0.0051869 , 0.00073766,\n",
       "       0.01029674, 0.00056   , 0.00134292, 0.00131997, 0.00073353,\n",
       "       0.00143867, 0.00114865, 0.00189977, 0.00042104, 0.00047241,\n",
       "       0.00103863, 0.00143684, 0.00122378, 0.00096445, 0.00011528,\n",
       "       0.00073999, 0.00091213, 0.00126481, 0.00038409, 0.00057711,\n",
       "       0.00271243, 0.0005279 , 0.0008131 , 0.00024237, 0.00272664,\n",
       "       0.0003611 , 0.01483343, 0.00075315, 0.00078565, 0.00217722,\n",
       "       0.00161825, 0.00056472, 0.00045062, 0.00039962, 0.00044525,\n",
       "       0.00063603, 0.00150077, 0.0003064 , 0.00034812, 0.00073489,\n",
       "       0.00053033, 0.00101099, 0.0005804 , 0.00132521, 0.00120547,\n",
       "       0.00151234, 0.00104697, 0.00267985, 0.00092899, 0.00970198,\n",
       "       0.00134991, 0.00081196, 0.00075584, 0.00928176, 0.00167806,\n",
       "       0.00033153, 0.00184859, 0.00054604, 0.00364453, 0.00134043,\n",
       "       0.00130654, 0.00077783, 0.00067226, 0.00156213, 0.00993517,\n",
       "       0.00055115, 0.00042615, 0.00114425, 0.00168564, 0.00141137,\n",
       "       0.00088867, 0.00065473, 0.00155969, 0.00063632, 0.00130022,\n",
       "       0.00166559, 0.00122244, 0.00035645, 0.00054575, 0.00049047,\n",
       "       0.00056232, 0.00138791, 0.00109061, 0.00045612, 0.00102347,\n",
       "       0.00148086, 0.00104858, 0.0010102 , 0.00751496, 0.00146972,\n",
       "       0.00350438, 0.00097725, 0.00113268, 0.00069407, 0.00270137,\n",
       "       0.00333483, 0.00104516, 0.00060216, 0.00046373, 0.00127533,\n",
       "       0.00044032, 0.0008686 , 0.00846191, 0.00092307, 0.00287863,\n",
       "       0.00133316, 0.00043721, 0.00156204, 0.00082946, 0.00064019,\n",
       "       0.00321142, 0.00035525, 0.00065039, 0.00171985, 0.0004876 ,\n",
       "       0.00037471, 0.00048622, 0.00018333, 0.00752888, 0.00055899,\n",
       "       0.00280023, 0.00059486, 0.0006956 , 0.00214079, 0.00057517,\n",
       "       0.00048053, 0.00113364, 0.00055945, 0.00021967, 0.00038214,\n",
       "       0.00637305, 0.00097075, 0.00100973, 0.00810619, 0.00172805,\n",
       "       0.00190682, 0.00234406, 0.00078655, 0.00049389, 0.00133933,\n",
       "       0.00048319, 0.00308358, 0.00062828, 0.00039127, 0.00110437,\n",
       "       0.00072331, 0.0007598 , 0.00070504, 0.00286471, 0.00098835,\n",
       "       0.00063431, 0.02615718, 0.0028472 , 0.00090379, 0.0015951 ,\n",
       "       0.00238756, 0.00162684, 0.0010801 , 0.00162987, 0.00138224,\n",
       "       0.00050752, 0.00057927, 0.00131063, 0.001694  , 0.01167681,\n",
       "       0.00046764, 0.00072508, 0.00769714, 0.00124578, 0.0006065 ,\n",
       "       0.00054139, 0.00076205, 0.00085758, 0.0030961 , 0.00072236,\n",
       "       0.00097826, 0.00945252, 0.00114152, 0.0016566 , 0.00191551,\n",
       "       0.00200852, 0.00052162, 0.00095253, 0.00231697, 0.00076484,\n",
       "       0.00028686, 0.00192228, 0.00078562, 0.00018988, 0.00058495,\n",
       "       0.00094164, 0.00091452, 0.00105589, 0.00210181, 0.00061186,\n",
       "       0.00249123, 0.00499832, 0.00072217, 0.0003784 , 0.00064419,\n",
       "       0.00087678, 0.00265484, 0.00119724, 0.00068979, 0.00098757,\n",
       "       0.00163039, 0.00192889, 0.00030031, 0.00489101, 0.00328736,\n",
       "       0.00048663, 0.00080999, 0.00130717, 0.00033956, 0.00069479,\n",
       "       0.00047135, 0.01791533, 0.00296083, 0.00332266, 0.00039143,\n",
       "       0.0004607 , 0.0001061 , 0.00132471, 0.00065675, 0.00242934,\n",
       "       0.00051904, 0.00030508, 0.00053372, 0.0017136 , 0.00080905,\n",
       "       0.00073054, 0.00112211, 0.00247853, 0.00093331, 0.00194825,\n",
       "       0.00039414, 0.00177046, 0.00071229, 0.00264307, 0.00068482,\n",
       "       0.00073186, 0.00179281, 0.00087383, 0.00060794, 0.01016057,\n",
       "       0.00152328, 0.00038596, 0.00102991, 0.00097085, 0.00208435,\n",
       "       0.00048431, 0.00129136, 0.00065235, 0.00070033, 0.00022546,\n",
       "       0.00046048, 0.00074953, 0.00235129, 0.00378335, 0.00098932,\n",
       "       0.0007341 , 0.00068848, 0.00291788, 0.0005491 , 0.00323719,\n",
       "       0.00074281, 0.00283206, 0.00118721, 0.00093826, 0.00029057,\n",
       "       0.00162198, 0.00192619, 0.00079051, 0.00070875, 0.00156162,\n",
       "       0.00322744, 0.00052547, 0.00067156, 0.00091121, 0.00123966,\n",
       "       0.00182136, 0.00031996, 0.00090231, 0.00025151, 0.00095912,\n",
       "       0.00291602, 0.00072593, 0.00052527, 0.00230168, 0.00032405,\n",
       "       0.00037859, 0.00077829, 0.00080433, 0.0001779 , 0.00136017,\n",
       "       0.00057484, 0.00096444, 0.00169144, 0.00205338, 0.00108315,\n",
       "       0.0006065 , 0.00064538, 0.0006085 , 0.00360557, 0.00183587,\n",
       "       0.00266248, 0.00061115, 0.00031976, 0.00183804, 0.00158442,\n",
       "       0.00047288, 0.00016119, 0.00053163, 0.00261261, 0.00136625,\n",
       "       0.00120648, 0.0006672 , 0.00099679, 0.00060246, 0.00069819,\n",
       "       0.00056555, 0.00136308, 0.0004987 , 0.00093544, 0.00093202,\n",
       "       0.00052397, 0.00048683, 0.00094683, 0.00167286, 0.0011488 ,\n",
       "       0.00024831, 0.00035232, 0.00072989, 0.00101866, 0.00093149,\n",
       "       0.000851  , 0.00069352, 0.00063979, 0.00088541, 0.00029381,\n",
       "       0.00189469, 0.00101622, 0.00042389, 0.00085966, 0.0004387 ,\n",
       "       0.00574181, 0.00067103, 0.00196327, 0.00128438, 0.00138764,\n",
       "       0.00051237, 0.02132251, 0.00493678, 0.0011075 , 0.00228215,\n",
       "       0.00150359, 0.00061666, 0.00542175, 0.00058766, 0.00051345,\n",
       "       0.00195791, 0.00027627, 0.00131999, 0.00063858, 0.00028163,\n",
       "       0.00101794, 0.00826826, 0.00094934, 0.00033875, 0.00143409,\n",
       "       0.00107804, 0.0003087 , 0.00094015, 0.00269526, 0.00206537,\n",
       "       0.00035107, 0.00068256, 0.00107851, 0.00075244, 0.00043443,\n",
       "       0.00087598, 0.00069888, 0.00112764, 0.00059694, 0.00058881,\n",
       "       0.00042207, 0.00092649, 0.00285508, 0.00033885, 0.00025857,\n",
       "       0.00013015, 0.00082268, 0.00134409, 0.00084907, 0.00076779,\n",
       "       0.00046257, 0.00438068, 0.00124254, 0.00122822, 0.00119771,\n",
       "       0.00193709, 0.00129774, 0.02011223, 0.00094478, 0.00111016,\n",
       "       0.00075534, 0.00035217, 0.00177052, 0.0008713 , 0.00043273,\n",
       "       0.00184953, 0.0003457 , 0.00072293, 0.00047571, 0.00108162,\n",
       "       0.00114705, 0.00047673, 0.0016103 , 0.00082534, 0.00026008,\n",
       "       0.00109338, 0.0017617 , 0.00154795, 0.00087614, 0.00113873,\n",
       "       0.000704  , 0.00071161, 0.00119949, 0.00107623, 0.00167381,\n",
       "       0.00060223, 0.00137525, 0.00197929, 0.00165444, 0.00110683,\n",
       "       0.00394312, 0.00061588, 0.00111465, 0.00244288, 0.0029456 ,\n",
       "       0.00215771, 0.00055663, 0.00074658, 0.00033769, 0.00049387,\n",
       "       0.00053952, 0.00065622, 0.00114417, 0.00142301, 0.00125916,\n",
       "       0.00022372, 0.00092655, 0.00041783, 0.00165108, 0.0025884 ,\n",
       "       0.00195597, 0.00080488, 0.00095445, 0.00164306, 0.00100199,\n",
       "       0.00082853, 0.00061371, 0.00167798, 0.00084978, 0.00062976,\n",
       "       0.00066177, 0.00158881, 0.00137464, 0.00035706, 0.00059976,\n",
       "       0.00073559, 0.00068766, 0.00092842, 0.00159557, 0.00065719,\n",
       "       0.00206848, 0.00062872, 0.00077111, 0.00187169, 0.00096058,\n",
       "       0.00327565, 0.00187539, 0.00102454, 0.00252563, 0.00056872,\n",
       "       0.0014808 , 0.00070527, 0.00282394, 0.00167838, 0.00054461,\n",
       "       0.00121799, 0.00426147, 0.00083247, 0.00186213, 0.00085545,\n",
       "       0.00016134, 0.00052709, 0.00235641, 0.00233445, 0.00061731,\n",
       "       0.00203589, 0.00575622, 0.00042758, 0.01927198, 0.00026842,\n",
       "       0.00165995, 0.00304344, 0.00024899, 0.00083691, 0.00062216,\n",
       "       0.00141868, 0.00061092, 0.00050294, 0.00023589, 0.00061024,\n",
       "       0.00178897, 0.00027424, 0.00021664, 0.00018175, 0.00077814,\n",
       "       0.00045515, 0.00089141, 0.00032197])"
      ]
     },
     "execution_count": 50,
     "metadata": {},
     "output_type": "execute_result"
    }
   ],
   "source": [
    "# Feature importance from class\n",
    "gs.best_estimator_.feature_importances_"
   ]
  },
  {
   "cell_type": "code",
   "execution_count": 51,
   "metadata": {
    "scrolled": true
   },
   "outputs": [
    {
     "data": {
      "text/html": [
       "<div>\n",
       "<style scoped>\n",
       "    .dataframe tbody tr th:only-of-type {\n",
       "        vertical-align: middle;\n",
       "    }\n",
       "\n",
       "    .dataframe tbody tr th {\n",
       "        vertical-align: top;\n",
       "    }\n",
       "\n",
       "    .dataframe thead th {\n",
       "        text-align: right;\n",
       "    }\n",
       "</style>\n",
       "<table border=\"1\" class=\"dataframe\">\n",
       "  <thead>\n",
       "    <tr style=\"text-align: right;\">\n",
       "      <th></th>\n",
       "      <th>Importance</th>\n",
       "    </tr>\n",
       "  </thead>\n",
       "  <tbody>\n",
       "    <tr>\n",
       "      <th>accessory</th>\n",
       "      <td>0.001261</td>\n",
       "    </tr>\n",
       "    <tr>\n",
       "      <th>actually</th>\n",
       "      <td>0.000656</td>\n",
       "    </tr>\n",
       "    <tr>\n",
       "      <th>add</th>\n",
       "      <td>0.000342</td>\n",
       "    </tr>\n",
       "    <tr>\n",
       "      <th>adult</th>\n",
       "      <td>0.000929</td>\n",
       "    </tr>\n",
       "    <tr>\n",
       "      <th>advice</th>\n",
       "      <td>0.002640</td>\n",
       "    </tr>\n",
       "    <tr>\n",
       "      <th>...</th>\n",
       "      <td>...</td>\n",
       "    </tr>\n",
       "    <tr>\n",
       "      <th>young</th>\n",
       "      <td>0.000182</td>\n",
       "    </tr>\n",
       "    <tr>\n",
       "      <th>youre</th>\n",
       "      <td>0.000778</td>\n",
       "    </tr>\n",
       "    <tr>\n",
       "      <th>youve</th>\n",
       "      <td>0.000455</td>\n",
       "    </tr>\n",
       "    <tr>\n",
       "      <th>zara</th>\n",
       "      <td>0.000891</td>\n",
       "    </tr>\n",
       "    <tr>\n",
       "      <th>zip</th>\n",
       "      <td>0.000322</td>\n",
       "    </tr>\n",
       "  </tbody>\n",
       "</table>\n",
       "<p>653 rows × 1 columns</p>\n",
       "</div>"
      ],
      "text/plain": [
       "           Importance\n",
       "accessory    0.001261\n",
       "actually     0.000656\n",
       "add          0.000342\n",
       "adult        0.000929\n",
       "advice       0.002640\n",
       "...               ...\n",
       "young        0.000182\n",
       "youre        0.000778\n",
       "youve        0.000455\n",
       "zara         0.000891\n",
       "zip          0.000322\n",
       "\n",
       "[653 rows x 1 columns]"
      ]
     },
     "execution_count": 51,
     "metadata": {},
     "output_type": "execute_result"
    }
   ],
   "source": [
    "#from class creating a column on important features and then ordering from top to least\n",
    "features_df = pd.DataFrame(gs.best_estimator_.feature_importances_, X_train_df2.columns, columns=['Importance'])\n",
    "features_df"
   ]
  },
  {
   "cell_type": "code",
   "execution_count": 52,
   "metadata": {},
   "outputs": [
    {
     "data": {
      "text/html": [
       "<div>\n",
       "<style scoped>\n",
       "    .dataframe tbody tr th:only-of-type {\n",
       "        vertical-align: middle;\n",
       "    }\n",
       "\n",
       "    .dataframe tbody tr th {\n",
       "        vertical-align: top;\n",
       "    }\n",
       "\n",
       "    .dataframe thead th {\n",
       "        text-align: right;\n",
       "    }\n",
       "</style>\n",
       "<table border=\"1\" class=\"dataframe\">\n",
       "  <thead>\n",
       "    <tr style=\"text-align: right;\">\n",
       "      <th></th>\n",
       "      <th>Importance</th>\n",
       "    </tr>\n",
       "  </thead>\n",
       "  <tbody>\n",
       "    <tr>\n",
       "      <th>jacket</th>\n",
       "      <td>0.026157</td>\n",
       "    </tr>\n",
       "    <tr>\n",
       "      <th>shirt</th>\n",
       "      <td>0.021323</td>\n",
       "    </tr>\n",
       "    <tr>\n",
       "      <th>suit</th>\n",
       "      <td>0.020112</td>\n",
       "    </tr>\n",
       "    <tr>\n",
       "      <th>woman</th>\n",
       "      <td>0.019272</td>\n",
       "    </tr>\n",
       "    <tr>\n",
       "      <th>men</th>\n",
       "      <td>0.017915</td>\n",
       "    </tr>\n",
       "    <tr>\n",
       "      <th>dress</th>\n",
       "      <td>0.014833</td>\n",
       "    </tr>\n",
       "    <tr>\n",
       "      <th>know</th>\n",
       "      <td>0.011677</td>\n",
       "    </tr>\n",
       "    <tr>\n",
       "      <th>daily</th>\n",
       "      <td>0.010297</td>\n",
       "    </tr>\n",
       "    <tr>\n",
       "      <th>october</th>\n",
       "      <td>0.010161</td>\n",
       "    </tr>\n",
       "    <tr>\n",
       "      <th>fit</th>\n",
       "      <td>0.009935</td>\n",
       "    </tr>\n",
       "  </tbody>\n",
       "</table>\n",
       "</div>"
      ],
      "text/plain": [
       "         Importance\n",
       "jacket     0.026157\n",
       "shirt      0.021323\n",
       "suit       0.020112\n",
       "woman      0.019272\n",
       "men        0.017915\n",
       "dress      0.014833\n",
       "know       0.011677\n",
       "daily      0.010297\n",
       "october    0.010161\n",
       "fit        0.009935"
      ]
     },
     "execution_count": 52,
     "metadata": {},
     "output_type": "execute_result"
    }
   ],
   "source": [
    "features_df.sort_values(by='Importance', ascending=False).head(10)"
   ]
  },
  {
   "cell_type": "code",
   "execution_count": 53,
   "metadata": {},
   "outputs": [
    {
     "data": {
      "text/html": [
       "<div>\n",
       "<style scoped>\n",
       "    .dataframe tbody tr th:only-of-type {\n",
       "        vertical-align: middle;\n",
       "    }\n",
       "\n",
       "    .dataframe tbody tr th {\n",
       "        vertical-align: top;\n",
       "    }\n",
       "\n",
       "    .dataframe thead th {\n",
       "        text-align: right;\n",
       "    }\n",
       "</style>\n",
       "<table border=\"1\" class=\"dataframe\">\n",
       "  <thead>\n",
       "    <tr style=\"text-align: right;\">\n",
       "      <th></th>\n",
       "      <th>Importance</th>\n",
       "    </tr>\n",
       "  </thead>\n",
       "  <tbody>\n",
       "    <tr>\n",
       "      <th>minimalist</th>\n",
       "      <td>0.000106</td>\n",
       "    </tr>\n",
       "    <tr>\n",
       "      <th>didnt</th>\n",
       "      <td>0.000115</td>\n",
       "    </tr>\n",
       "    <tr>\n",
       "      <th>appreciate</th>\n",
       "      <td>0.000115</td>\n",
       "    </tr>\n",
       "    <tr>\n",
       "      <th>strap</th>\n",
       "      <td>0.000130</td>\n",
       "    </tr>\n",
       "    <tr>\n",
       "      <th>recently</th>\n",
       "      <td>0.000161</td>\n",
       "    </tr>\n",
       "    <tr>\n",
       "      <th>weird</th>\n",
       "      <td>0.000161</td>\n",
       "    </tr>\n",
       "    <tr>\n",
       "      <th>pretty</th>\n",
       "      <td>0.000178</td>\n",
       "    </tr>\n",
       "    <tr>\n",
       "      <th>canadian</th>\n",
       "      <td>0.000181</td>\n",
       "    </tr>\n",
       "    <tr>\n",
       "      <th>young</th>\n",
       "      <td>0.000182</td>\n",
       "    </tr>\n",
       "    <tr>\n",
       "      <th>heavy</th>\n",
       "      <td>0.000183</td>\n",
       "    </tr>\n",
       "  </tbody>\n",
       "</table>\n",
       "</div>"
      ],
      "text/plain": [
       "            Importance\n",
       "minimalist    0.000106\n",
       "didnt         0.000115\n",
       "appreciate    0.000115\n",
       "strap         0.000130\n",
       "recently      0.000161\n",
       "weird         0.000161\n",
       "pretty        0.000178\n",
       "canadian      0.000181\n",
       "young         0.000182\n",
       "heavy         0.000183"
      ]
     },
     "execution_count": 53,
     "metadata": {},
     "output_type": "execute_result"
    }
   ],
   "source": [
    "features_df.sort_values(by='Importance', ascending=True).head(10)"
   ]
  },
  {
   "cell_type": "code",
   "execution_count": 54,
   "metadata": {},
   "outputs": [],
   "source": [
    "import matplotlib.pyplot as plt\n",
    "%matplotlib inline"
   ]
  },
  {
   "cell_type": "code",
   "execution_count": 68,
   "metadata": {
    "scrolled": false
   },
   "outputs": [
    {
     "data": {
      "image/png": "[encoded data removed]",
      "text/plain": [
       "<Figure size 1440x720 with 1 Axes>"
      ]
     },
     "metadata": {
      "needs_background": "light"
     },
     "output_type": "display_data"
    }
   ],
   "source": [
    "#from adi's lesson\n",
    "plt.figure(figsize=(20,10))\n",
    "temp = features_df.sort_values('Importance', ascending=False).head(20)\n",
    "plt.barh(temp.index, temp['Importance'])\n",
    "#plt.title('Top 20 Features from Title', fontsize=30)\n",
    "plt.xlabel('Amount of information gained', fontsize=22)\n",
    "plt.ylabel('Features', fontsize=22);\n",
    "plt.tick_params(axis='both', which='major', labelsize=18)\n",
    "plt.tick_params(axis='both', which='minor', labelsize=18)"
   ]
  },
  {
   "cell_type": "markdown",
   "metadata": {},
   "source": [
    "#### using a Naive Bayes and using a gridsearch w/ parameters on the training data and testing data and scoring them to see how they worked compared to the baseline model"
   ]
  },
  {
   "cell_type": "code",
   "execution_count": 59,
   "metadata": {},
   "outputs": [
    {
     "name": "stdout",
     "output_type": "stream",
     "text": [
      "0.7273564630027632\n"
     ]
    }
   ],
   "source": [
    "X_train_dtm = cvec.fit_transform(X_train)\n",
    "X_test_dtm = cvec.transform(X_test)\n",
    "nb = MultinomialNB()\n",
    "nb.fit(X_train_dtm, y_train)\n",
    "y_pred_class = nb.predict(X_test_dtm)\n",
    "# Calculate accuracy.\n",
    "print((metrics.accuracy_score(y_test, y_pred_class)))"
   ]
  },
  {
   "cell_type": "code",
   "execution_count": 60,
   "metadata": {},
   "outputs": [
    {
     "data": {
      "text/plain": [
       "0    0.501382\n",
       "1    0.498618\n",
       "Name: subreddit, dtype: float64"
      ]
     },
     "execution_count": 60,
     "metadata": {},
     "output_type": "execute_result"
    }
   ],
   "source": [
    "#reminding myself of the baseline accuracy\n",
    "y_test.value_counts(normalize=True)"
   ]
  },
  {
   "cell_type": "markdown",
   "metadata": {},
   "source": [
    "Our model predicted ~52% accuracy, which is an improvement over this baseline 50% accuracy\n",
    "(assuming our model always predicts the mensfashion).\n"
   ]
  },
  {
   "cell_type": "code",
   "execution_count": 61,
   "metadata": {},
   "outputs": [],
   "source": [
    "params2 = {\n",
    "    'alpha': [1.0]\n",
    "}"
   ]
  },
  {
   "cell_type": "code",
   "execution_count": 62,
   "metadata": {},
   "outputs": [
    {
     "data": {
      "text/plain": [
       "GridSearchCV(cv=5, error_score='raise-deprecating',\n",
       "             estimator=MultinomialNB(alpha=1.0, class_prior=None,\n",
       "                                     fit_prior=True),\n",
       "             iid='warn', n_jobs=None, param_grid={'alpha': [1.0]},\n",
       "             pre_dispatch='2*n_jobs', refit=True, return_train_score=True,\n",
       "             scoring=None, verbose=0)"
      ]
     },
     "execution_count": 62,
     "metadata": {},
     "output_type": "execute_result"
    }
   ],
   "source": [
    "gs2 = GridSearchCV(nb, param_grid=params2, return_train_score=True, cv=5)\n",
    "gs2.fit(X_train_df2, y_train)"
   ]
  },
  {
   "cell_type": "code",
   "execution_count": 63,
   "metadata": {},
   "outputs": [
    {
     "data": {
      "text/plain": [
       "0.7554297749111492"
      ]
     },
     "execution_count": 63,
     "metadata": {},
     "output_type": "execute_result"
    }
   ],
   "source": [
    "gs2.score(X_train_df2, y_train)"
   ]
  },
  {
   "cell_type": "code",
   "execution_count": 64,
   "metadata": {},
   "outputs": [
    {
     "data": {
      "text/plain": [
       "0.7273564630027632"
      ]
     },
     "execution_count": 64,
     "metadata": {},
     "output_type": "execute_result"
    }
   ],
   "source": [
    "gs2.score(X_test_df, y_test)"
   ]
  }
 ],
 "metadata": {
  "kernelspec": {
   "display_name": "Python 3",
   "language": "python",
   "name": "python3"
  },
  "language_info": {
   "codemirror_mode": {
    "name": "ipython",
    "version": 3
   },
   "file_extension": ".py",
   "mimetype": "text/x-python",
   "name": "python",
   "nbconvert_exporter": "python",
   "pygments_lexer": "ipython3",
   "version": "3.7.4"
  }
 },
 "nbformat": 4,
 "nbformat_minor": 2
}
