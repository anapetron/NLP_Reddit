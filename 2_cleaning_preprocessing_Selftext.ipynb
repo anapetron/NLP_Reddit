{
 "cells": [
  {
   "cell_type": "markdown",
   "metadata": {},
   "source": [
    "## Imports"
   ]
  },
  {
   "cell_type": "markdown",
   "metadata": {},
   "source": [
    "#### I did the same steps as in 2_cleaning_preprocessing_Title just used the selftext instead of title"
   ]
  },
  {
   "cell_type": "code",
   "execution_count": 1,
   "metadata": {},
   "outputs": [],
   "source": [
    "import pandas as pd\n",
    "import numpy as np\n",
    "import regex as re\n",
    "import scipy as sp\n",
    "import string\n",
    "from nltk.corpus import stopwords\n",
    "from nltk.stem import WordNetLemmatizer\n",
    "from nltk.tokenize import RegexpTokenizer\n",
    "from nltk.stem.porter import PorterStemmer\n",
    "from sklearn.model_selection import train_test_split\n",
    "from sklearn.feature_extraction import stop_words\n",
    "from sklearn.feature_extraction.text import CountVectorizer, TfidfVectorizer\n",
    "from sklearn.naive_bayes import MultinomialNB # Naive Bayes\n",
    "from sklearn.linear_model import LogisticRegression\n",
    "from sklearn import metrics\n",
    "from sklearn.naive_bayes import GaussianNB, MultinomialNB, BernoulliNB, ComplementNB"
   ]
  },
  {
   "cell_type": "markdown",
   "metadata": {},
   "source": [
    "Reading in the datasets"
   ]
  },
  {
   "cell_type": "code",
   "execution_count": 2,
   "metadata": {},
   "outputs": [],
   "source": [
    "mens = pd.read_csv(\"./datasets/mens_reddit2.csv\")"
   ]
  },
  {
   "cell_type": "code",
   "execution_count": 3,
   "metadata": {},
   "outputs": [],
   "source": [
    "womens = pd.read_csv(\"./datasets/womens_reddit2.csv\")"
   ]
  },
  {
   "cell_type": "code",
   "execution_count": 4,
   "metadata": {},
   "outputs": [
    {
     "data": {
      "text/html": [
       "<div>\n",
       "<style scoped>\n",
       "    .dataframe tbody tr th:only-of-type {\n",
       "        vertical-align: middle;\n",
       "    }\n",
       "\n",
       "    .dataframe tbody tr th {\n",
       "        vertical-align: top;\n",
       "    }\n",
       "\n",
       "    .dataframe thead th {\n",
       "        text-align: right;\n",
       "    }\n",
       "</style>\n",
       "<table border=\"1\" class=\"dataframe\">\n",
       "  <thead>\n",
       "    <tr style=\"text-align: right;\">\n",
       "      <th></th>\n",
       "      <th>Unnamed: 0</th>\n",
       "      <th>subreddit</th>\n",
       "      <th>selftext</th>\n",
       "      <th>title</th>\n",
       "    </tr>\n",
       "  </thead>\n",
       "  <tbody>\n",
       "    <tr>\n",
       "      <th>0</th>\n",
       "      <td>0</td>\n",
       "      <td>malefashionadvice</td>\n",
       "      <td>NaN</td>\n",
       "      <td>Fast Drying Mens 100% Cotton Gym Towels</td>\n",
       "    </tr>\n",
       "    <tr>\n",
       "      <th>1</th>\n",
       "      <td>1</td>\n",
       "      <td>malefashionadvice</td>\n",
       "      <td>[removed]</td>\n",
       "      <td>Looking For Boots</td>\n",
       "    </tr>\n",
       "    <tr>\n",
       "      <th>2</th>\n",
       "      <td>2</td>\n",
       "      <td>malefashionadvice</td>\n",
       "      <td>NaN</td>\n",
       "      <td>Drew today's outfit</td>\n",
       "    </tr>\n",
       "    <tr>\n",
       "      <th>3</th>\n",
       "      <td>3</td>\n",
       "      <td>malefashionadvice</td>\n",
       "      <td>[removed]</td>\n",
       "      <td>Advice for collars for the well dressed Man on...</td>\n",
       "    </tr>\n",
       "    <tr>\n",
       "      <th>4</th>\n",
       "      <td>4</td>\n",
       "      <td>malefashionadvice</td>\n",
       "      <td>Figured maybe I could get some help from other...</td>\n",
       "      <td>need help finding these mens 3\" or 4\" soffe sh...</td>\n",
       "    </tr>\n",
       "  </tbody>\n",
       "</table>\n",
       "</div>"
      ],
      "text/plain": [
       "   Unnamed: 0          subreddit  \\\n",
       "0           0  malefashionadvice   \n",
       "1           1  malefashionadvice   \n",
       "2           2  malefashionadvice   \n",
       "3           3  malefashionadvice   \n",
       "4           4  malefashionadvice   \n",
       "\n",
       "                                            selftext  \\\n",
       "0                                                NaN   \n",
       "1                                          [removed]   \n",
       "2                                                NaN   \n",
       "3                                          [removed]   \n",
       "4  Figured maybe I could get some help from other...   \n",
       "\n",
       "                                               title  \n",
       "0            Fast Drying Mens 100% Cotton Gym Towels  \n",
       "1                                  Looking For Boots  \n",
       "2                                Drew today's outfit  \n",
       "3  Advice for collars for the well dressed Man on...  \n",
       "4  need help finding these mens 3\" or 4\" soffe sh...  "
      ]
     },
     "execution_count": 4,
     "metadata": {},
     "output_type": "execute_result"
    }
   ],
   "source": [
    "mens.head()"
   ]
  },
  {
   "cell_type": "code",
   "execution_count": 5,
   "metadata": {},
   "outputs": [],
   "source": [
    "mens.drop('Unnamed: 0', axis=1, inplace=True)"
   ]
  },
  {
   "cell_type": "code",
   "execution_count": 6,
   "metadata": {
    "scrolled": true
   },
   "outputs": [
    {
     "data": {
      "text/html": [
       "<div>\n",
       "<style scoped>\n",
       "    .dataframe tbody tr th:only-of-type {\n",
       "        vertical-align: middle;\n",
       "    }\n",
       "\n",
       "    .dataframe tbody tr th {\n",
       "        vertical-align: top;\n",
       "    }\n",
       "\n",
       "    .dataframe thead th {\n",
       "        text-align: right;\n",
       "    }\n",
       "</style>\n",
       "<table border=\"1\" class=\"dataframe\">\n",
       "  <thead>\n",
       "    <tr style=\"text-align: right;\">\n",
       "      <th></th>\n",
       "      <th>Unnamed: 0</th>\n",
       "      <th>subreddit</th>\n",
       "      <th>selftext</th>\n",
       "      <th>title</th>\n",
       "    </tr>\n",
       "  </thead>\n",
       "  <tbody>\n",
       "    <tr>\n",
       "      <th>0</th>\n",
       "      <td>0</td>\n",
       "      <td>femalefashionadvice</td>\n",
       "      <td>I hate how mittens or woolen gloves look. It's...</td>\n",
       "      <td>What are some good looking but also comfy warm...</td>\n",
       "    </tr>\n",
       "    <tr>\n",
       "      <th>1</th>\n",
       "      <td>1</td>\n",
       "      <td>femalefashionadvice</td>\n",
       "      <td>Whether you’re trying to decipher your cousin’...</td>\n",
       "      <td>Weddings, Parties, and Events - January 27, 2020</td>\n",
       "    </tr>\n",
       "    <tr>\n",
       "      <th>2</th>\n",
       "      <td>2</td>\n",
       "      <td>femalefashionadvice</td>\n",
       "      <td>[removed]</td>\n",
       "      <td>High Quality Fashion Brands for Curvy (not mea...</td>\n",
       "    </tr>\n",
       "    <tr>\n",
       "      <th>3</th>\n",
       "      <td>3</td>\n",
       "      <td>femalefashionadvice</td>\n",
       "      <td>I’m 20 NB AMAB Person here and in a little les...</td>\n",
       "      <td>I need help designing an outfit for a theme party</td>\n",
       "    </tr>\n",
       "    <tr>\n",
       "      <th>4</th>\n",
       "      <td>4</td>\n",
       "      <td>femalefashionadvice</td>\n",
       "      <td>[removed]</td>\n",
       "      <td>I don't know what style I am...</td>\n",
       "    </tr>\n",
       "  </tbody>\n",
       "</table>\n",
       "</div>"
      ],
      "text/plain": [
       "   Unnamed: 0            subreddit  \\\n",
       "0           0  femalefashionadvice   \n",
       "1           1  femalefashionadvice   \n",
       "2           2  femalefashionadvice   \n",
       "3           3  femalefashionadvice   \n",
       "4           4  femalefashionadvice   \n",
       "\n",
       "                                            selftext  \\\n",
       "0  I hate how mittens or woolen gloves look. It's...   \n",
       "1  Whether you’re trying to decipher your cousin’...   \n",
       "2                                          [removed]   \n",
       "3  I’m 20 NB AMAB Person here and in a little les...   \n",
       "4                                          [removed]   \n",
       "\n",
       "                                               title  \n",
       "0  What are some good looking but also comfy warm...  \n",
       "1   Weddings, Parties, and Events - January 27, 2020  \n",
       "2  High Quality Fashion Brands for Curvy (not mea...  \n",
       "3  I need help designing an outfit for a theme party  \n",
       "4                    I don't know what style I am...  "
      ]
     },
     "execution_count": 6,
     "metadata": {},
     "output_type": "execute_result"
    }
   ],
   "source": [
    "womens.head()"
   ]
  },
  {
   "cell_type": "code",
   "execution_count": 7,
   "metadata": {},
   "outputs": [],
   "source": [
    "womens.drop('Unnamed: 0', axis=1, inplace=True)"
   ]
  },
  {
   "cell_type": "code",
   "execution_count": 8,
   "metadata": {},
   "outputs": [
    {
     "data": {
      "text/html": [
       "<div>\n",
       "<style scoped>\n",
       "    .dataframe tbody tr th:only-of-type {\n",
       "        vertical-align: middle;\n",
       "    }\n",
       "\n",
       "    .dataframe tbody tr th {\n",
       "        vertical-align: top;\n",
       "    }\n",
       "\n",
       "    .dataframe thead th {\n",
       "        text-align: right;\n",
       "    }\n",
       "</style>\n",
       "<table border=\"1\" class=\"dataframe\">\n",
       "  <thead>\n",
       "    <tr style=\"text-align: right;\">\n",
       "      <th></th>\n",
       "      <th>subreddit</th>\n",
       "      <th>selftext</th>\n",
       "      <th>title</th>\n",
       "    </tr>\n",
       "  </thead>\n",
       "  <tbody>\n",
       "    <tr>\n",
       "      <th>0</th>\n",
       "      <td>femalefashionadvice</td>\n",
       "      <td>I hate how mittens or woolen gloves look. It's...</td>\n",
       "      <td>What are some good looking but also comfy warm...</td>\n",
       "    </tr>\n",
       "    <tr>\n",
       "      <th>1</th>\n",
       "      <td>femalefashionadvice</td>\n",
       "      <td>Whether you’re trying to decipher your cousin’...</td>\n",
       "      <td>Weddings, Parties, and Events - January 27, 2020</td>\n",
       "    </tr>\n",
       "  </tbody>\n",
       "</table>\n",
       "</div>"
      ],
      "text/plain": [
       "             subreddit                                           selftext  \\\n",
       "0  femalefashionadvice  I hate how mittens or woolen gloves look. It's...   \n",
       "1  femalefashionadvice  Whether you’re trying to decipher your cousin’...   \n",
       "\n",
       "                                               title  \n",
       "0  What are some good looking but also comfy warm...  \n",
       "1   Weddings, Parties, and Events - January 27, 2020  "
      ]
     },
     "execution_count": 8,
     "metadata": {},
     "output_type": "execute_result"
    }
   ],
   "source": [
    "womens.head(2)"
   ]
  },
  {
   "cell_type": "code",
   "execution_count": 9,
   "metadata": {},
   "outputs": [],
   "source": [
    "fashion = pd.concat([mens, womens], ignore_index=True, sort =False)"
   ]
  },
  {
   "cell_type": "code",
   "execution_count": 10,
   "metadata": {},
   "outputs": [
    {
     "data": {
      "text/html": [
       "<div>\n",
       "<style scoped>\n",
       "    .dataframe tbody tr th:only-of-type {\n",
       "        vertical-align: middle;\n",
       "    }\n",
       "\n",
       "    .dataframe tbody tr th {\n",
       "        vertical-align: top;\n",
       "    }\n",
       "\n",
       "    .dataframe thead th {\n",
       "        text-align: right;\n",
       "    }\n",
       "</style>\n",
       "<table border=\"1\" class=\"dataframe\">\n",
       "  <thead>\n",
       "    <tr style=\"text-align: right;\">\n",
       "      <th></th>\n",
       "      <th>subreddit</th>\n",
       "      <th>selftext</th>\n",
       "      <th>title</th>\n",
       "    </tr>\n",
       "  </thead>\n",
       "  <tbody>\n",
       "    <tr>\n",
       "      <th>0</th>\n",
       "      <td>malefashionadvice</td>\n",
       "      <td>NaN</td>\n",
       "      <td>Fast Drying Mens 100% Cotton Gym Towels</td>\n",
       "    </tr>\n",
       "    <tr>\n",
       "      <th>1</th>\n",
       "      <td>malefashionadvice</td>\n",
       "      <td>[removed]</td>\n",
       "      <td>Looking For Boots</td>\n",
       "    </tr>\n",
       "    <tr>\n",
       "      <th>2</th>\n",
       "      <td>malefashionadvice</td>\n",
       "      <td>NaN</td>\n",
       "      <td>Drew today's outfit</td>\n",
       "    </tr>\n",
       "    <tr>\n",
       "      <th>3</th>\n",
       "      <td>malefashionadvice</td>\n",
       "      <td>[removed]</td>\n",
       "      <td>Advice for collars for the well dressed Man on...</td>\n",
       "    </tr>\n",
       "    <tr>\n",
       "      <th>4</th>\n",
       "      <td>malefashionadvice</td>\n",
       "      <td>Figured maybe I could get some help from other...</td>\n",
       "      <td>need help finding these mens 3\" or 4\" soffe sh...</td>\n",
       "    </tr>\n",
       "  </tbody>\n",
       "</table>\n",
       "</div>"
      ],
      "text/plain": [
       "           subreddit                                           selftext  \\\n",
       "0  malefashionadvice                                                NaN   \n",
       "1  malefashionadvice                                          [removed]   \n",
       "2  malefashionadvice                                                NaN   \n",
       "3  malefashionadvice                                          [removed]   \n",
       "4  malefashionadvice  Figured maybe I could get some help from other...   \n",
       "\n",
       "                                               title  \n",
       "0            Fast Drying Mens 100% Cotton Gym Towels  \n",
       "1                                  Looking For Boots  \n",
       "2                                Drew today's outfit  \n",
       "3  Advice for collars for the well dressed Man on...  \n",
       "4  need help finding these mens 3\" or 4\" soffe sh...  "
      ]
     },
     "execution_count": 10,
     "metadata": {},
     "output_type": "execute_result"
    }
   ],
   "source": [
    "fashion.head()"
   ]
  },
  {
   "cell_type": "code",
   "execution_count": 11,
   "metadata": {},
   "outputs": [
    {
     "data": {
      "text/html": [
       "<div>\n",
       "<style scoped>\n",
       "    .dataframe tbody tr th:only-of-type {\n",
       "        vertical-align: middle;\n",
       "    }\n",
       "\n",
       "    .dataframe tbody tr th {\n",
       "        vertical-align: top;\n",
       "    }\n",
       "\n",
       "    .dataframe thead th {\n",
       "        text-align: right;\n",
       "    }\n",
       "</style>\n",
       "<table border=\"1\" class=\"dataframe\">\n",
       "  <thead>\n",
       "    <tr style=\"text-align: right;\">\n",
       "      <th></th>\n",
       "      <th>subreddit</th>\n",
       "      <th>selftext</th>\n",
       "      <th>title</th>\n",
       "    </tr>\n",
       "  </thead>\n",
       "  <tbody>\n",
       "    <tr>\n",
       "      <th>10995</th>\n",
       "      <td>femalefashionadvice</td>\n",
       "      <td>Have a couple photos you love but enough to ma...</td>\n",
       "      <td>Share &amp;amp; Request Inspo - September 12, 2019</td>\n",
       "    </tr>\n",
       "    <tr>\n",
       "      <th>10996</th>\n",
       "      <td>femalefashionadvice</td>\n",
       "      <td>Hi, r/femalefashionadvice! I think many of you...</td>\n",
       "      <td>The plus size era is over before it began</td>\n",
       "    </tr>\n",
       "    <tr>\n",
       "      <th>10997</th>\n",
       "      <td>femalefashionadvice</td>\n",
       "      <td>I feel like this fits in this sub. Hear me out...</td>\n",
       "      <td>Let's talk about deodorant</td>\n",
       "    </tr>\n",
       "    <tr>\n",
       "      <th>10998</th>\n",
       "      <td>femalefashionadvice</td>\n",
       "      <td>Use this post as an opportunity to gush all ab...</td>\n",
       "      <td>What’s been your greatest find recently and wh...</td>\n",
       "    </tr>\n",
       "    <tr>\n",
       "      <th>10999</th>\n",
       "      <td>femalefashionadvice</td>\n",
       "      <td>I'm starting a journey through the Curated Clo...</td>\n",
       "      <td>Curated Closet - Plus Size Gal</td>\n",
       "    </tr>\n",
       "  </tbody>\n",
       "</table>\n",
       "</div>"
      ],
      "text/plain": [
       "                 subreddit                                           selftext  \\\n",
       "10995  femalefashionadvice  Have a couple photos you love but enough to ma...   \n",
       "10996  femalefashionadvice  Hi, r/femalefashionadvice! I think many of you...   \n",
       "10997  femalefashionadvice  I feel like this fits in this sub. Hear me out...   \n",
       "10998  femalefashionadvice  Use this post as an opportunity to gush all ab...   \n",
       "10999  femalefashionadvice  I'm starting a journey through the Curated Clo...   \n",
       "\n",
       "                                                   title  \n",
       "10995     Share &amp; Request Inspo - September 12, 2019  \n",
       "10996          The plus size era is over before it began  \n",
       "10997                         Let's talk about deodorant  \n",
       "10998  What’s been your greatest find recently and wh...  \n",
       "10999                     Curated Closet - Plus Size Gal  "
      ]
     },
     "execution_count": 11,
     "metadata": {},
     "output_type": "execute_result"
    }
   ],
   "source": [
    "fashion.tail()"
   ]
  },
  {
   "cell_type": "markdown",
   "metadata": {},
   "source": [
    "#### In the above code, I read in the csv files, looked at them using .head() and dropped the unneccesary Unnamed:0 column. Then I concated the mens fashion and the female fashion together"
   ]
  },
  {
   "cell_type": "code",
   "execution_count": 12,
   "metadata": {
    "scrolled": true
   },
   "outputs": [
    {
     "data": {
      "text/plain": [
       "146"
      ]
     },
     "execution_count": 12,
     "metadata": {},
     "output_type": "execute_result"
    }
   ],
   "source": [
    "fashion.duplicated().sum()"
   ]
  },
  {
   "cell_type": "code",
   "execution_count": 13,
   "metadata": {},
   "outputs": [
    {
     "data": {
      "text/html": [
       "<div>\n",
       "<style scoped>\n",
       "    .dataframe tbody tr th:only-of-type {\n",
       "        vertical-align: middle;\n",
       "    }\n",
       "\n",
       "    .dataframe tbody tr th {\n",
       "        vertical-align: top;\n",
       "    }\n",
       "\n",
       "    .dataframe thead th {\n",
       "        text-align: right;\n",
       "    }\n",
       "</style>\n",
       "<table border=\"1\" class=\"dataframe\">\n",
       "  <thead>\n",
       "    <tr style=\"text-align: right;\">\n",
       "      <th></th>\n",
       "      <th>subreddit</th>\n",
       "      <th>selftext</th>\n",
       "      <th>title</th>\n",
       "    </tr>\n",
       "  </thead>\n",
       "  <tbody>\n",
       "    <tr>\n",
       "      <th>17</th>\n",
       "      <td>malefashionadvice</td>\n",
       "      <td>NaN</td>\n",
       "      <td>How to Potty Train your Puppy EASILY! Everythi...</td>\n",
       "    </tr>\n",
       "    <tr>\n",
       "      <th>90</th>\n",
       "      <td>malefashionadvice</td>\n",
       "      <td>NaN</td>\n",
       "      <td>This Acne miracle has 11,000 5 Star Reviews</td>\n",
       "    </tr>\n",
       "    <tr>\n",
       "      <th>105</th>\n",
       "      <td>malefashionadvice</td>\n",
       "      <td>NaN</td>\n",
       "      <td>This Acne miracle has 11,000 5 Star Reviews</td>\n",
       "    </tr>\n",
       "    <tr>\n",
       "      <th>139</th>\n",
       "      <td>malefashionadvice</td>\n",
       "      <td>NaN</td>\n",
       "      <td>What shoes are these?</td>\n",
       "    </tr>\n",
       "    <tr>\n",
       "      <th>144</th>\n",
       "      <td>malefashionadvice</td>\n",
       "      <td>NaN</td>\n",
       "      <td>Top Down / Aerial / Crotch Shot WAYWT</td>\n",
       "    </tr>\n",
       "    <tr>\n",
       "      <th>...</th>\n",
       "      <td>...</td>\n",
       "      <td>...</td>\n",
       "      <td>...</td>\n",
       "    </tr>\n",
       "    <tr>\n",
       "      <th>9923</th>\n",
       "      <td>femalefashionadvice</td>\n",
       "      <td>[removed]</td>\n",
       "      <td>What is the name of this style?</td>\n",
       "    </tr>\n",
       "    <tr>\n",
       "      <th>10261</th>\n",
       "      <td>femalefashionadvice</td>\n",
       "      <td>[removed]</td>\n",
       "      <td>Need help with houndstooth dress outfit</td>\n",
       "    </tr>\n",
       "    <tr>\n",
       "      <th>10262</th>\n",
       "      <td>femalefashionadvice</td>\n",
       "      <td>[removed]</td>\n",
       "      <td>Need help with houndstooth dress outfit</td>\n",
       "    </tr>\n",
       "    <tr>\n",
       "      <th>10392</th>\n",
       "      <td>femalefashionadvice</td>\n",
       "      <td>[removed]</td>\n",
       "      <td>Wedding Guest Dresses</td>\n",
       "    </tr>\n",
       "    <tr>\n",
       "      <th>10523</th>\n",
       "      <td>femalefashionadvice</td>\n",
       "      <td>[removed]</td>\n",
       "      <td>Wedding Guest Dresses</td>\n",
       "    </tr>\n",
       "  </tbody>\n",
       "</table>\n",
       "<p>250 rows × 3 columns</p>\n",
       "</div>"
      ],
      "text/plain": [
       "                 subreddit   selftext  \\\n",
       "17       malefashionadvice        NaN   \n",
       "90       malefashionadvice        NaN   \n",
       "105      malefashionadvice        NaN   \n",
       "139      malefashionadvice        NaN   \n",
       "144      malefashionadvice        NaN   \n",
       "...                    ...        ...   \n",
       "9923   femalefashionadvice  [removed]   \n",
       "10261  femalefashionadvice  [removed]   \n",
       "10262  femalefashionadvice  [removed]   \n",
       "10392  femalefashionadvice  [removed]   \n",
       "10523  femalefashionadvice  [removed]   \n",
       "\n",
       "                                                   title  \n",
       "17     How to Potty Train your Puppy EASILY! Everythi...  \n",
       "90           This Acne miracle has 11,000 5 Star Reviews  \n",
       "105          This Acne miracle has 11,000 5 Star Reviews  \n",
       "139                                What shoes are these?  \n",
       "144                Top Down / Aerial / Crotch Shot WAYWT  \n",
       "...                                                  ...  \n",
       "9923                     What is the name of this style?  \n",
       "10261            Need help with houndstooth dress outfit  \n",
       "10262            Need help with houndstooth dress outfit  \n",
       "10392                              Wedding Guest Dresses  \n",
       "10523                              Wedding Guest Dresses  \n",
       "\n",
       "[250 rows x 3 columns]"
      ]
     },
     "execution_count": 13,
     "metadata": {},
     "output_type": "execute_result"
    }
   ],
   "source": [
    "fashion[fashion.duplicated(keep=False) == True]"
   ]
  },
  {
   "cell_type": "code",
   "execution_count": 14,
   "metadata": {},
   "outputs": [],
   "source": [
    "fashion.drop_duplicates(inplace=True)"
   ]
  },
  {
   "cell_type": "code",
   "execution_count": 15,
   "metadata": {},
   "outputs": [
    {
     "data": {
      "text/plain": [
       "0"
      ]
     },
     "execution_count": 15,
     "metadata": {},
     "output_type": "execute_result"
    }
   ],
   "source": [
    "fashion.duplicated().sum()"
   ]
  },
  {
   "cell_type": "code",
   "execution_count": 16,
   "metadata": {},
   "outputs": [
    {
     "name": "stdout",
     "output_type": "stream",
     "text": [
      "<class 'pandas.core.frame.DataFrame'>\n",
      "Int64Index: 10854 entries, 0 to 10999\n",
      "Data columns (total 3 columns):\n",
      "subreddit    10854 non-null object\n",
      "selftext     9016 non-null object\n",
      "title        10854 non-null object\n",
      "dtypes: object(3)\n",
      "memory usage: 339.2+ KB\n"
     ]
    }
   ],
   "source": [
    "fashion.info()"
   ]
  },
  {
   "cell_type": "code",
   "execution_count": 17,
   "metadata": {
    "scrolled": true
   },
   "outputs": [
    {
     "data": {
      "text/plain": [
       "subreddit       0\n",
       "selftext     1838\n",
       "title           0\n",
       "dtype: int64"
      ]
     },
     "execution_count": 17,
     "metadata": {},
     "output_type": "execute_result"
    }
   ],
   "source": [
    "fashion.isnull().sum()"
   ]
  },
  {
   "cell_type": "code",
   "execution_count": 18,
   "metadata": {},
   "outputs": [
    {
     "data": {
      "text/html": [
       "<div>\n",
       "<style scoped>\n",
       "    .dataframe tbody tr th:only-of-type {\n",
       "        vertical-align: middle;\n",
       "    }\n",
       "\n",
       "    .dataframe tbody tr th {\n",
       "        vertical-align: top;\n",
       "    }\n",
       "\n",
       "    .dataframe thead th {\n",
       "        text-align: right;\n",
       "    }\n",
       "</style>\n",
       "<table border=\"1\" class=\"dataframe\">\n",
       "  <thead>\n",
       "    <tr style=\"text-align: right;\">\n",
       "      <th></th>\n",
       "      <th>subreddit</th>\n",
       "      <th>selftext</th>\n",
       "      <th>title</th>\n",
       "    </tr>\n",
       "  </thead>\n",
       "  <tbody>\n",
       "    <tr>\n",
       "      <th>0</th>\n",
       "      <td>malefashionadvice</td>\n",
       "      <td>NaN</td>\n",
       "      <td>Fast Drying Mens 100% Cotton Gym Towels</td>\n",
       "    </tr>\n",
       "    <tr>\n",
       "      <th>1</th>\n",
       "      <td>malefashionadvice</td>\n",
       "      <td>[removed]</td>\n",
       "      <td>Looking For Boots</td>\n",
       "    </tr>\n",
       "    <tr>\n",
       "      <th>2</th>\n",
       "      <td>malefashionadvice</td>\n",
       "      <td>NaN</td>\n",
       "      <td>Drew today's outfit</td>\n",
       "    </tr>\n",
       "    <tr>\n",
       "      <th>3</th>\n",
       "      <td>malefashionadvice</td>\n",
       "      <td>[removed]</td>\n",
       "      <td>Advice for collars for the well dressed Man on...</td>\n",
       "    </tr>\n",
       "    <tr>\n",
       "      <th>4</th>\n",
       "      <td>malefashionadvice</td>\n",
       "      <td>Figured maybe I could get some help from other...</td>\n",
       "      <td>need help finding these mens 3\" or 4\" soffe sh...</td>\n",
       "    </tr>\n",
       "  </tbody>\n",
       "</table>\n",
       "</div>"
      ],
      "text/plain": [
       "           subreddit                                           selftext  \\\n",
       "0  malefashionadvice                                                NaN   \n",
       "1  malefashionadvice                                          [removed]   \n",
       "2  malefashionadvice                                                NaN   \n",
       "3  malefashionadvice                                          [removed]   \n",
       "4  malefashionadvice  Figured maybe I could get some help from other...   \n",
       "\n",
       "                                               title  \n",
       "0            Fast Drying Mens 100% Cotton Gym Towels  \n",
       "1                                  Looking For Boots  \n",
       "2                                Drew today's outfit  \n",
       "3  Advice for collars for the well dressed Man on...  \n",
       "4  need help finding these mens 3\" or 4\" soffe sh...  "
      ]
     },
     "execution_count": 18,
     "metadata": {},
     "output_type": "execute_result"
    }
   ],
   "source": [
    "fashion.head()"
   ]
  },
  {
   "cell_type": "code",
   "execution_count": 19,
   "metadata": {},
   "outputs": [],
   "source": [
    "#putting in a stop word or something so that I can remove it but keep \n",
    "fashion[\"selftext\"].fillna('at', inplace = True)"
   ]
  },
  {
   "cell_type": "code",
   "execution_count": 20,
   "metadata": {},
   "outputs": [
    {
     "data": {
      "text/html": [
       "<div>\n",
       "<style scoped>\n",
       "    .dataframe tbody tr th:only-of-type {\n",
       "        vertical-align: middle;\n",
       "    }\n",
       "\n",
       "    .dataframe tbody tr th {\n",
       "        vertical-align: top;\n",
       "    }\n",
       "\n",
       "    .dataframe thead th {\n",
       "        text-align: right;\n",
       "    }\n",
       "</style>\n",
       "<table border=\"1\" class=\"dataframe\">\n",
       "  <thead>\n",
       "    <tr style=\"text-align: right;\">\n",
       "      <th></th>\n",
       "      <th>subreddit</th>\n",
       "      <th>selftext</th>\n",
       "      <th>title</th>\n",
       "    </tr>\n",
       "  </thead>\n",
       "  <tbody>\n",
       "    <tr>\n",
       "      <th>0</th>\n",
       "      <td>malefashionadvice</td>\n",
       "      <td>at</td>\n",
       "      <td>Fast Drying Mens 100% Cotton Gym Towels</td>\n",
       "    </tr>\n",
       "    <tr>\n",
       "      <th>1</th>\n",
       "      <td>malefashionadvice</td>\n",
       "      <td>[removed]</td>\n",
       "      <td>Looking For Boots</td>\n",
       "    </tr>\n",
       "  </tbody>\n",
       "</table>\n",
       "</div>"
      ],
      "text/plain": [
       "           subreddit   selftext                                    title\n",
       "0  malefashionadvice         at  Fast Drying Mens 100% Cotton Gym Towels\n",
       "1  malefashionadvice  [removed]                        Looking For Boots"
      ]
     },
     "execution_count": 20,
     "metadata": {},
     "output_type": "execute_result"
    }
   ],
   "source": [
    "fashion.head(2)"
   ]
  },
  {
   "cell_type": "code",
   "execution_count": 21,
   "metadata": {},
   "outputs": [],
   "source": [
    "fashion['selftext'] = fashion['selftext'].replace(['[removed]'], 'at')"
   ]
  },
  {
   "cell_type": "code",
   "execution_count": 22,
   "metadata": {},
   "outputs": [],
   "source": [
    "fashion['selftext_lower']  = fashion['selftext'].str.lower()"
   ]
  },
  {
   "cell_type": "code",
   "execution_count": 23,
   "metadata": {},
   "outputs": [],
   "source": [
    "fashion['title_lower'] = fashion['title'].str.lower()"
   ]
  },
  {
   "cell_type": "code",
   "execution_count": 24,
   "metadata": {},
   "outputs": [
    {
     "data": {
      "text/html": [
       "<div>\n",
       "<style scoped>\n",
       "    .dataframe tbody tr th:only-of-type {\n",
       "        vertical-align: middle;\n",
       "    }\n",
       "\n",
       "    .dataframe tbody tr th {\n",
       "        vertical-align: top;\n",
       "    }\n",
       "\n",
       "    .dataframe thead th {\n",
       "        text-align: right;\n",
       "    }\n",
       "</style>\n",
       "<table border=\"1\" class=\"dataframe\">\n",
       "  <thead>\n",
       "    <tr style=\"text-align: right;\">\n",
       "      <th></th>\n",
       "      <th>subreddit</th>\n",
       "      <th>selftext</th>\n",
       "      <th>title</th>\n",
       "      <th>selftext_lower</th>\n",
       "      <th>title_lower</th>\n",
       "    </tr>\n",
       "  </thead>\n",
       "  <tbody>\n",
       "    <tr>\n",
       "      <th>0</th>\n",
       "      <td>malefashionadvice</td>\n",
       "      <td>at</td>\n",
       "      <td>Fast Drying Mens 100% Cotton Gym Towels</td>\n",
       "      <td>at</td>\n",
       "      <td>fast drying mens 100% cotton gym towels</td>\n",
       "    </tr>\n",
       "    <tr>\n",
       "      <th>1</th>\n",
       "      <td>malefashionadvice</td>\n",
       "      <td>at</td>\n",
       "      <td>Looking For Boots</td>\n",
       "      <td>at</td>\n",
       "      <td>looking for boots</td>\n",
       "    </tr>\n",
       "    <tr>\n",
       "      <th>2</th>\n",
       "      <td>malefashionadvice</td>\n",
       "      <td>at</td>\n",
       "      <td>Drew today's outfit</td>\n",
       "      <td>at</td>\n",
       "      <td>drew today's outfit</td>\n",
       "    </tr>\n",
       "    <tr>\n",
       "      <th>3</th>\n",
       "      <td>malefashionadvice</td>\n",
       "      <td>at</td>\n",
       "      <td>Advice for collars for the well dressed Man on...</td>\n",
       "      <td>at</td>\n",
       "      <td>advice for collars for the well dressed man on...</td>\n",
       "    </tr>\n",
       "    <tr>\n",
       "      <th>4</th>\n",
       "      <td>malefashionadvice</td>\n",
       "      <td>Figured maybe I could get some help from other...</td>\n",
       "      <td>need help finding these mens 3\" or 4\" soffe sh...</td>\n",
       "      <td>figured maybe i could get some help from other...</td>\n",
       "      <td>need help finding these mens 3\" or 4\" soffe sh...</td>\n",
       "    </tr>\n",
       "  </tbody>\n",
       "</table>\n",
       "</div>"
      ],
      "text/plain": [
       "           subreddit                                           selftext  \\\n",
       "0  malefashionadvice                                                 at   \n",
       "1  malefashionadvice                                                 at   \n",
       "2  malefashionadvice                                                 at   \n",
       "3  malefashionadvice                                                 at   \n",
       "4  malefashionadvice  Figured maybe I could get some help from other...   \n",
       "\n",
       "                                               title  \\\n",
       "0            Fast Drying Mens 100% Cotton Gym Towels   \n",
       "1                                  Looking For Boots   \n",
       "2                                Drew today's outfit   \n",
       "3  Advice for collars for the well dressed Man on...   \n",
       "4  need help finding these mens 3\" or 4\" soffe sh...   \n",
       "\n",
       "                                      selftext_lower  \\\n",
       "0                                                 at   \n",
       "1                                                 at   \n",
       "2                                                 at   \n",
       "3                                                 at   \n",
       "4  figured maybe i could get some help from other...   \n",
       "\n",
       "                                         title_lower  \n",
       "0            fast drying mens 100% cotton gym towels  \n",
       "1                                  looking for boots  \n",
       "2                                drew today's outfit  \n",
       "3  advice for collars for the well dressed man on...  \n",
       "4  need help finding these mens 3\" or 4\" soffe sh...  "
      ]
     },
     "execution_count": 24,
     "metadata": {},
     "output_type": "execute_result"
    }
   ],
   "source": [
    "fashion.head()"
   ]
  },
  {
   "cell_type": "code",
   "execution_count": 25,
   "metadata": {},
   "outputs": [],
   "source": [
    "fashion['title_lower'] = fashion['title_lower'].replace('[^a-zA-Z ]', '', regex=True)"
   ]
  },
  {
   "cell_type": "code",
   "execution_count": 26,
   "metadata": {},
   "outputs": [
    {
     "data": {
      "text/html": [
       "<div>\n",
       "<style scoped>\n",
       "    .dataframe tbody tr th:only-of-type {\n",
       "        vertical-align: middle;\n",
       "    }\n",
       "\n",
       "    .dataframe tbody tr th {\n",
       "        vertical-align: top;\n",
       "    }\n",
       "\n",
       "    .dataframe thead th {\n",
       "        text-align: right;\n",
       "    }\n",
       "</style>\n",
       "<table border=\"1\" class=\"dataframe\">\n",
       "  <thead>\n",
       "    <tr style=\"text-align: right;\">\n",
       "      <th></th>\n",
       "      <th>subreddit</th>\n",
       "      <th>selftext</th>\n",
       "      <th>title</th>\n",
       "      <th>selftext_lower</th>\n",
       "      <th>title_lower</th>\n",
       "    </tr>\n",
       "  </thead>\n",
       "  <tbody>\n",
       "    <tr>\n",
       "      <th>0</th>\n",
       "      <td>malefashionadvice</td>\n",
       "      <td>at</td>\n",
       "      <td>Fast Drying Mens 100% Cotton Gym Towels</td>\n",
       "      <td>at</td>\n",
       "      <td>fast drying mens  cotton gym towels</td>\n",
       "    </tr>\n",
       "    <tr>\n",
       "      <th>1</th>\n",
       "      <td>malefashionadvice</td>\n",
       "      <td>at</td>\n",
       "      <td>Looking For Boots</td>\n",
       "      <td>at</td>\n",
       "      <td>looking for boots</td>\n",
       "    </tr>\n",
       "    <tr>\n",
       "      <th>2</th>\n",
       "      <td>malefashionadvice</td>\n",
       "      <td>at</td>\n",
       "      <td>Drew today's outfit</td>\n",
       "      <td>at</td>\n",
       "      <td>drew todays outfit</td>\n",
       "    </tr>\n",
       "    <tr>\n",
       "      <th>3</th>\n",
       "      <td>malefashionadvice</td>\n",
       "      <td>at</td>\n",
       "      <td>Advice for collars for the well dressed Man on...</td>\n",
       "      <td>at</td>\n",
       "      <td>advice for collars for the well dressed man on...</td>\n",
       "    </tr>\n",
       "    <tr>\n",
       "      <th>4</th>\n",
       "      <td>malefashionadvice</td>\n",
       "      <td>Figured maybe I could get some help from other...</td>\n",
       "      <td>need help finding these mens 3\" or 4\" soffe sh...</td>\n",
       "      <td>figured maybe i could get some help from other...</td>\n",
       "      <td>need help finding these mens  or  soffe shorts...</td>\n",
       "    </tr>\n",
       "  </tbody>\n",
       "</table>\n",
       "</div>"
      ],
      "text/plain": [
       "           subreddit                                           selftext  \\\n",
       "0  malefashionadvice                                                 at   \n",
       "1  malefashionadvice                                                 at   \n",
       "2  malefashionadvice                                                 at   \n",
       "3  malefashionadvice                                                 at   \n",
       "4  malefashionadvice  Figured maybe I could get some help from other...   \n",
       "\n",
       "                                               title  \\\n",
       "0            Fast Drying Mens 100% Cotton Gym Towels   \n",
       "1                                  Looking For Boots   \n",
       "2                                Drew today's outfit   \n",
       "3  Advice for collars for the well dressed Man on...   \n",
       "4  need help finding these mens 3\" or 4\" soffe sh...   \n",
       "\n",
       "                                      selftext_lower  \\\n",
       "0                                                 at   \n",
       "1                                                 at   \n",
       "2                                                 at   \n",
       "3                                                 at   \n",
       "4  figured maybe i could get some help from other...   \n",
       "\n",
       "                                         title_lower  \n",
       "0                fast drying mens  cotton gym towels  \n",
       "1                                  looking for boots  \n",
       "2                                 drew todays outfit  \n",
       "3  advice for collars for the well dressed man on...  \n",
       "4  need help finding these mens  or  soffe shorts...  "
      ]
     },
     "execution_count": 26,
     "metadata": {},
     "output_type": "execute_result"
    }
   ],
   "source": [
    "fashion.head()"
   ]
  },
  {
   "cell_type": "code",
   "execution_count": 27,
   "metadata": {},
   "outputs": [],
   "source": [
    "fashion['selftext_lower'] = fashion['selftext_lower'].replace('[^a-zA-Z ]', '', regex=True)"
   ]
  },
  {
   "cell_type": "code",
   "execution_count": 28,
   "metadata": {},
   "outputs": [
    {
     "data": {
      "text/html": [
       "<div>\n",
       "<style scoped>\n",
       "    .dataframe tbody tr th:only-of-type {\n",
       "        vertical-align: middle;\n",
       "    }\n",
       "\n",
       "    .dataframe tbody tr th {\n",
       "        vertical-align: top;\n",
       "    }\n",
       "\n",
       "    .dataframe thead th {\n",
       "        text-align: right;\n",
       "    }\n",
       "</style>\n",
       "<table border=\"1\" class=\"dataframe\">\n",
       "  <thead>\n",
       "    <tr style=\"text-align: right;\">\n",
       "      <th></th>\n",
       "      <th>subreddit</th>\n",
       "      <th>selftext</th>\n",
       "      <th>title</th>\n",
       "      <th>selftext_lower</th>\n",
       "      <th>title_lower</th>\n",
       "    </tr>\n",
       "  </thead>\n",
       "  <tbody>\n",
       "    <tr>\n",
       "      <th>0</th>\n",
       "      <td>0</td>\n",
       "      <td>at</td>\n",
       "      <td>Fast Drying Mens 100% Cotton Gym Towels</td>\n",
       "      <td>at</td>\n",
       "      <td>fast drying mens  cotton gym towels</td>\n",
       "    </tr>\n",
       "    <tr>\n",
       "      <th>1</th>\n",
       "      <td>0</td>\n",
       "      <td>at</td>\n",
       "      <td>Looking For Boots</td>\n",
       "      <td>at</td>\n",
       "      <td>looking for boots</td>\n",
       "    </tr>\n",
       "    <tr>\n",
       "      <th>2</th>\n",
       "      <td>0</td>\n",
       "      <td>at</td>\n",
       "      <td>Drew today's outfit</td>\n",
       "      <td>at</td>\n",
       "      <td>drew todays outfit</td>\n",
       "    </tr>\n",
       "    <tr>\n",
       "      <th>3</th>\n",
       "      <td>0</td>\n",
       "      <td>at</td>\n",
       "      <td>Advice for collars for the well dressed Man on...</td>\n",
       "      <td>at</td>\n",
       "      <td>advice for collars for the well dressed man on...</td>\n",
       "    </tr>\n",
       "    <tr>\n",
       "      <th>4</th>\n",
       "      <td>0</td>\n",
       "      <td>Figured maybe I could get some help from other...</td>\n",
       "      <td>need help finding these mens 3\" or 4\" soffe sh...</td>\n",
       "      <td>figured maybe i could get some help from other...</td>\n",
       "      <td>need help finding these mens  or  soffe shorts...</td>\n",
       "    </tr>\n",
       "  </tbody>\n",
       "</table>\n",
       "</div>"
      ],
      "text/plain": [
       "   subreddit                                           selftext  \\\n",
       "0          0                                                 at   \n",
       "1          0                                                 at   \n",
       "2          0                                                 at   \n",
       "3          0                                                 at   \n",
       "4          0  Figured maybe I could get some help from other...   \n",
       "\n",
       "                                               title  \\\n",
       "0            Fast Drying Mens 100% Cotton Gym Towels   \n",
       "1                                  Looking For Boots   \n",
       "2                                Drew today's outfit   \n",
       "3  Advice for collars for the well dressed Man on...   \n",
       "4  need help finding these mens 3\" or 4\" soffe sh...   \n",
       "\n",
       "                                      selftext_lower  \\\n",
       "0                                                 at   \n",
       "1                                                 at   \n",
       "2                                                 at   \n",
       "3                                                 at   \n",
       "4  figured maybe i could get some help from other...   \n",
       "\n",
       "                                         title_lower  \n",
       "0                fast drying mens  cotton gym towels  \n",
       "1                                  looking for boots  \n",
       "2                                 drew todays outfit  \n",
       "3  advice for collars for the well dressed man on...  \n",
       "4  need help finding these mens  or  soffe shorts...  "
      ]
     },
     "execution_count": 28,
     "metadata": {},
     "output_type": "execute_result"
    }
   ],
   "source": [
    "fashion['subreddit'] = fashion['subreddit'].map({'malefashionadvice': 0, 'femalefashionadvice': 1})\n",
    "fashion.head()"
   ]
  },
  {
   "cell_type": "code",
   "execution_count": 29,
   "metadata": {},
   "outputs": [
    {
     "data": {
      "text/plain": [
       "1    5466\n",
       "0    5388\n",
       "Name: subreddit, dtype: int64"
      ]
     },
     "execution_count": 29,
     "metadata": {},
     "output_type": "execute_result"
    }
   ],
   "source": [
    "fashion['subreddit'].value_counts()"
   ]
  },
  {
   "cell_type": "code",
   "execution_count": 30,
   "metadata": {},
   "outputs": [],
   "source": [
    "X = fashion['selftext_lower']\n",
    "y = fashion['subreddit']"
   ]
  },
  {
   "cell_type": "code",
   "execution_count": 31,
   "metadata": {},
   "outputs": [],
   "source": [
    "X_train, X_test, y_train, y_test = train_test_split(X, y, test_size=0.3, random_state=42)"
   ]
  },
  {
   "cell_type": "code",
   "execution_count": 32,
   "metadata": {},
   "outputs": [
    {
     "data": {
      "text/plain": [
       "0    0.501382\n",
       "1    0.498618\n",
       "Name: subreddit, dtype: float64"
      ]
     },
     "execution_count": 32,
     "metadata": {},
     "output_type": "execute_result"
    }
   ],
   "source": [
    "#This is the baseline of the project, and the 0 class which is mapped to the malefashionadvice makes up this score\n",
    "y_test.value_counts(normalize=True)"
   ]
  },
  {
   "cell_type": "code",
   "execution_count": 33,
   "metadata": {},
   "outputs": [],
   "source": [
    "from nltk import word_tokenize          \n",
    "from nltk.stem import WordNetLemmatizer \n",
    "class LemmaTokenizer(object):\n",
    "    def __init__(self):\n",
    "        self.wnl = WordNetLemmatizer()\n",
    "    def __call__(self, articles):\n",
    "        return [self.wnl.lemmatize(t) for t in word_tokenize(articles)]"
   ]
  },
  {
   "cell_type": "code",
   "execution_count": 34,
   "metadata": {},
   "outputs": [],
   "source": [
    "cvec = CountVectorizer(tokenizer=LemmaTokenizer(),\n",
    "                                strip_accents = 'unicode', # works \n",
    "                                stop_words = 'english', # works\n",
    "                                lowercase = True,\n",
    "                               token_pattern = r'\\b[a-zA-Z]{3,}\\b',\n",
    "                                max_df = 0.5, # works\n",
    "                                min_df = 10) "
   ]
  },
  {
   "cell_type": "code",
   "execution_count": 35,
   "metadata": {
    "scrolled": true
   },
   "outputs": [
    {
     "name": "stderr",
     "output_type": "stream",
     "text": [
      "C:\\Users\\Vera\\Anaconda3\\lib\\site-packages\\sklearn\\feature_extraction\\text.py:300: UserWarning: Your stop_words may be inconsistent with your preprocessing. Tokenizing the stop words generated tokens ['ha', 'le', 'u', 'wa'] not in stop_words.\n",
      "  'stop_words.' % sorted(inconsistent))\n"
     ]
    },
    {
     "data": {
      "text/plain": [
       "CountVectorizer(analyzer='word', binary=False, decode_error='strict',\n",
       "                dtype=<class 'numpy.int64'>, encoding='utf-8', input='content',\n",
       "                lowercase=True, max_df=0.5, max_features=None, min_df=10,\n",
       "                ngram_range=(1, 1), preprocessor=None, stop_words='english',\n",
       "                strip_accents='unicode', token_pattern='\\\\b[a-zA-Z]{3,}\\\\b',\n",
       "                tokenizer=<__main__.LemmaTokenizer object at 0x000001C5E3BEFA88>,\n",
       "                vocabulary=None)"
      ]
     },
     "execution_count": 35,
     "metadata": {},
     "output_type": "execute_result"
    }
   ],
   "source": [
    "cvec.fit(X_train)"
   ]
  },
  {
   "cell_type": "code",
   "execution_count": 36,
   "metadata": {},
   "outputs": [],
   "source": [
    "X_train_df1 = cvec.transform(X_train)"
   ]
  },
  {
   "cell_type": "code",
   "execution_count": 37,
   "metadata": {
    "scrolled": false
   },
   "outputs": [
    {
     "data": {
      "text/html": [
       "<div>\n",
       "<style scoped>\n",
       "    .dataframe tbody tr th:only-of-type {\n",
       "        vertical-align: middle;\n",
       "    }\n",
       "\n",
       "    .dataframe tbody tr th {\n",
       "        vertical-align: top;\n",
       "    }\n",
       "\n",
       "    .dataframe thead th {\n",
       "        text-align: right;\n",
       "    }\n",
       "</style>\n",
       "<table border=\"1\" class=\"dataframe\">\n",
       "  <thead>\n",
       "    <tr style=\"text-align: right;\">\n",
       "      <th></th>\n",
       "      <th>able</th>\n",
       "      <th>absolutely</th>\n",
       "      <th>accept</th>\n",
       "      <th>acceptable</th>\n",
       "      <th>access</th>\n",
       "      <th>accessory</th>\n",
       "      <th>according</th>\n",
       "      <th>account</th>\n",
       "      <th>achieve</th>\n",
       "      <th>acronym</th>\n",
       "      <th>...</th>\n",
       "      <th>youexample</th>\n",
       "      <th>youll</th>\n",
       "      <th>young</th>\n",
       "      <th>younger</th>\n",
       "      <th>youre</th>\n",
       "      <th>youtube</th>\n",
       "      <th>youve</th>\n",
       "      <th>zara</th>\n",
       "      <th>zip</th>\n",
       "      <th>zipper</th>\n",
       "    </tr>\n",
       "  </thead>\n",
       "  <tbody>\n",
       "    <tr>\n",
       "      <th>0</th>\n",
       "      <td>0</td>\n",
       "      <td>0</td>\n",
       "      <td>0</td>\n",
       "      <td>0</td>\n",
       "      <td>0</td>\n",
       "      <td>0</td>\n",
       "      <td>0</td>\n",
       "      <td>0</td>\n",
       "      <td>0</td>\n",
       "      <td>0</td>\n",
       "      <td>...</td>\n",
       "      <td>0</td>\n",
       "      <td>0</td>\n",
       "      <td>0</td>\n",
       "      <td>0</td>\n",
       "      <td>0</td>\n",
       "      <td>0</td>\n",
       "      <td>0</td>\n",
       "      <td>0</td>\n",
       "      <td>0</td>\n",
       "      <td>0</td>\n",
       "    </tr>\n",
       "    <tr>\n",
       "      <th>1</th>\n",
       "      <td>0</td>\n",
       "      <td>0</td>\n",
       "      <td>0</td>\n",
       "      <td>0</td>\n",
       "      <td>0</td>\n",
       "      <td>0</td>\n",
       "      <td>0</td>\n",
       "      <td>0</td>\n",
       "      <td>0</td>\n",
       "      <td>0</td>\n",
       "      <td>...</td>\n",
       "      <td>0</td>\n",
       "      <td>0</td>\n",
       "      <td>0</td>\n",
       "      <td>0</td>\n",
       "      <td>0</td>\n",
       "      <td>0</td>\n",
       "      <td>0</td>\n",
       "      <td>0</td>\n",
       "      <td>0</td>\n",
       "      <td>0</td>\n",
       "    </tr>\n",
       "    <tr>\n",
       "      <th>2</th>\n",
       "      <td>0</td>\n",
       "      <td>0</td>\n",
       "      <td>0</td>\n",
       "      <td>0</td>\n",
       "      <td>0</td>\n",
       "      <td>0</td>\n",
       "      <td>0</td>\n",
       "      <td>0</td>\n",
       "      <td>0</td>\n",
       "      <td>0</td>\n",
       "      <td>...</td>\n",
       "      <td>0</td>\n",
       "      <td>0</td>\n",
       "      <td>0</td>\n",
       "      <td>0</td>\n",
       "      <td>0</td>\n",
       "      <td>0</td>\n",
       "      <td>0</td>\n",
       "      <td>0</td>\n",
       "      <td>0</td>\n",
       "      <td>0</td>\n",
       "    </tr>\n",
       "    <tr>\n",
       "      <th>3</th>\n",
       "      <td>0</td>\n",
       "      <td>0</td>\n",
       "      <td>0</td>\n",
       "      <td>0</td>\n",
       "      <td>0</td>\n",
       "      <td>0</td>\n",
       "      <td>0</td>\n",
       "      <td>0</td>\n",
       "      <td>0</td>\n",
       "      <td>0</td>\n",
       "      <td>...</td>\n",
       "      <td>0</td>\n",
       "      <td>0</td>\n",
       "      <td>0</td>\n",
       "      <td>0</td>\n",
       "      <td>0</td>\n",
       "      <td>0</td>\n",
       "      <td>0</td>\n",
       "      <td>0</td>\n",
       "      <td>0</td>\n",
       "      <td>0</td>\n",
       "    </tr>\n",
       "    <tr>\n",
       "      <th>4</th>\n",
       "      <td>0</td>\n",
       "      <td>0</td>\n",
       "      <td>0</td>\n",
       "      <td>0</td>\n",
       "      <td>0</td>\n",
       "      <td>0</td>\n",
       "      <td>0</td>\n",
       "      <td>0</td>\n",
       "      <td>0</td>\n",
       "      <td>0</td>\n",
       "      <td>...</td>\n",
       "      <td>0</td>\n",
       "      <td>0</td>\n",
       "      <td>0</td>\n",
       "      <td>0</td>\n",
       "      <td>0</td>\n",
       "      <td>0</td>\n",
       "      <td>0</td>\n",
       "      <td>0</td>\n",
       "      <td>0</td>\n",
       "      <td>0</td>\n",
       "    </tr>\n",
       "  </tbody>\n",
       "</table>\n",
       "<p>5 rows × 1798 columns</p>\n",
       "</div>"
      ],
      "text/plain": [
       "   able  absolutely  accept  acceptable  access  accessory  according  \\\n",
       "0     0           0       0           0       0          0          0   \n",
       "1     0           0       0           0       0          0          0   \n",
       "2     0           0       0           0       0          0          0   \n",
       "3     0           0       0           0       0          0          0   \n",
       "4     0           0       0           0       0          0          0   \n",
       "\n",
       "   account  achieve  acronym  ...  youexample  youll  young  younger  youre  \\\n",
       "0        0        0        0  ...           0      0      0        0      0   \n",
       "1        0        0        0  ...           0      0      0        0      0   \n",
       "2        0        0        0  ...           0      0      0        0      0   \n",
       "3        0        0        0  ...           0      0      0        0      0   \n",
       "4        0        0        0  ...           0      0      0        0      0   \n",
       "\n",
       "   youtube  youve  zara  zip  zipper  \n",
       "0        0      0     0    0       0  \n",
       "1        0      0     0    0       0  \n",
       "2        0      0     0    0       0  \n",
       "3        0      0     0    0       0  \n",
       "4        0      0     0    0       0  \n",
       "\n",
       "[5 rows x 1798 columns]"
      ]
     },
     "execution_count": 37,
     "metadata": {},
     "output_type": "execute_result"
    }
   ],
   "source": [
    "X_train_df2 = pd.DataFrame(X_train_df1.toarray(), columns=cvec.get_feature_names())\n",
    "X_train_df2.head()"
   ]
  },
  {
   "cell_type": "code",
   "execution_count": 38,
   "metadata": {},
   "outputs": [],
   "source": [
    "X_test_df = cvec.transform(X_test)"
   ]
  },
  {
   "cell_type": "code",
   "execution_count": 39,
   "metadata": {},
   "outputs": [
    {
     "data": {
      "text/plain": [
       "(7597, 1798)"
      ]
     },
     "execution_count": 39,
     "metadata": {},
     "output_type": "execute_result"
    }
   ],
   "source": [
    "X_train_df2.shape"
   ]
  },
  {
   "cell_type": "code",
   "execution_count": 40,
   "metadata": {},
   "outputs": [],
   "source": [
    "from sklearn.ensemble import RandomForestClassifier\n",
    "from sklearn.model_selection import GridSearchCV"
   ]
  },
  {
   "cell_type": "code",
   "execution_count": 41,
   "metadata": {
    "scrolled": true
   },
   "outputs": [],
   "source": [
    "# define a RandomForestClassifier\n",
    "rfc = RandomForestClassifier(n_estimators=100)"
   ]
  },
  {
   "cell_type": "code",
   "execution_count": 42,
   "metadata": {},
   "outputs": [],
   "source": [
    "params = {\n",
    "    'min_samples_split': [10, 25, 50]\n",
    "}"
   ]
  },
  {
   "cell_type": "code",
   "execution_count": 43,
   "metadata": {
    "scrolled": false
   },
   "outputs": [
    {
     "data": {
      "text/plain": [
       "GridSearchCV(cv=5, error_score='raise-deprecating',\n",
       "             estimator=RandomForestClassifier(bootstrap=True, class_weight=None,\n",
       "                                              criterion='gini', max_depth=None,\n",
       "                                              max_features='auto',\n",
       "                                              max_leaf_nodes=None,\n",
       "                                              min_impurity_decrease=0.0,\n",
       "                                              min_impurity_split=None,\n",
       "                                              min_samples_leaf=1,\n",
       "                                              min_samples_split=2,\n",
       "                                              min_weight_fraction_leaf=0.0,\n",
       "                                              n_estimators=100, n_jobs=None,\n",
       "                                              oob_score=False,\n",
       "                                              random_state=None, verbose=0,\n",
       "                                              warm_start=False),\n",
       "             iid='warn', n_jobs=None,\n",
       "             param_grid={'min_samples_split': [10, 25, 50]},\n",
       "             pre_dispatch='2*n_jobs', refit=True, return_train_score=True,\n",
       "             scoring=None, verbose=0)"
      ]
     },
     "execution_count": 43,
     "metadata": {},
     "output_type": "execute_result"
    }
   ],
   "source": [
    "gs = GridSearchCV(rfc, param_grid=params, return_train_score=True, cv=5)\n",
    "gs.fit(X_train_df2, y_train)"
   ]
  },
  {
   "cell_type": "code",
   "execution_count": 44,
   "metadata": {},
   "outputs": [
    {
     "data": {
      "text/plain": [
       "0.6939581413715941"
      ]
     },
     "execution_count": 44,
     "metadata": {},
     "output_type": "execute_result"
    }
   ],
   "source": [
    "gs.score(X_train_df2, y_train)"
   ]
  },
  {
   "cell_type": "code",
   "execution_count": 45,
   "metadata": {},
   "outputs": [
    {
     "data": {
      "text/plain": [
       "0.6377034080442124"
      ]
     },
     "execution_count": 45,
     "metadata": {},
     "output_type": "execute_result"
    }
   ],
   "source": [
    "gs.score(X_test_df, y_test) #this is what we compare to the baseline score\n",
    "#My model predicted ~72% accuracy, which is an improvement over this baseline 50% accuracy\n",
    "#(assuming our model always predicts the mensfashion)."
   ]
  },
  {
   "cell_type": "code",
   "execution_count": 46,
   "metadata": {},
   "outputs": [],
   "source": [
    "#gs.best_params_"
   ]
  },
  {
   "cell_type": "code",
   "execution_count": 47,
   "metadata": {},
   "outputs": [
    {
     "data": {
      "text/plain": [
       "array([6.30711414e-04, 1.87977153e-04, 2.40408238e-05, ...,\n",
       "       2.19294965e-04, 1.06203734e-04, 3.54064601e-04])"
      ]
     },
     "execution_count": 47,
     "metadata": {},
     "output_type": "execute_result"
    }
   ],
   "source": [
    "# Feature importance\n",
    "gs.best_estimator_.feature_importances_"
   ]
  },
  {
   "cell_type": "code",
   "execution_count": 48,
   "metadata": {
    "scrolled": true
   },
   "outputs": [
    {
     "data": {
      "text/html": [
       "<div>\n",
       "<style scoped>\n",
       "    .dataframe tbody tr th:only-of-type {\n",
       "        vertical-align: middle;\n",
       "    }\n",
       "\n",
       "    .dataframe tbody tr th {\n",
       "        vertical-align: top;\n",
       "    }\n",
       "\n",
       "    .dataframe thead th {\n",
       "        text-align: right;\n",
       "    }\n",
       "</style>\n",
       "<table border=\"1\" class=\"dataframe\">\n",
       "  <thead>\n",
       "    <tr style=\"text-align: right;\">\n",
       "      <th></th>\n",
       "      <th>Importance</th>\n",
       "    </tr>\n",
       "  </thead>\n",
       "  <tbody>\n",
       "    <tr>\n",
       "      <th>able</th>\n",
       "      <td>0.000631</td>\n",
       "    </tr>\n",
       "    <tr>\n",
       "      <th>absolutely</th>\n",
       "      <td>0.000188</td>\n",
       "    </tr>\n",
       "    <tr>\n",
       "      <th>accept</th>\n",
       "      <td>0.000024</td>\n",
       "    </tr>\n",
       "    <tr>\n",
       "      <th>acceptable</th>\n",
       "      <td>0.000098</td>\n",
       "    </tr>\n",
       "    <tr>\n",
       "      <th>access</th>\n",
       "      <td>0.000042</td>\n",
       "    </tr>\n",
       "    <tr>\n",
       "      <th>...</th>\n",
       "      <td>...</td>\n",
       "    </tr>\n",
       "    <tr>\n",
       "      <th>youtube</th>\n",
       "      <td>0.000067</td>\n",
       "    </tr>\n",
       "    <tr>\n",
       "      <th>youve</th>\n",
       "      <td>0.000406</td>\n",
       "    </tr>\n",
       "    <tr>\n",
       "      <th>zara</th>\n",
       "      <td>0.000219</td>\n",
       "    </tr>\n",
       "    <tr>\n",
       "      <th>zip</th>\n",
       "      <td>0.000106</td>\n",
       "    </tr>\n",
       "    <tr>\n",
       "      <th>zipper</th>\n",
       "      <td>0.000354</td>\n",
       "    </tr>\n",
       "  </tbody>\n",
       "</table>\n",
       "<p>1798 rows × 1 columns</p>\n",
       "</div>"
      ],
      "text/plain": [
       "            Importance\n",
       "able          0.000631\n",
       "absolutely    0.000188\n",
       "accept        0.000024\n",
       "acceptable    0.000098\n",
       "access        0.000042\n",
       "...                ...\n",
       "youtube       0.000067\n",
       "youve         0.000406\n",
       "zara          0.000219\n",
       "zip           0.000106\n",
       "zipper        0.000354\n",
       "\n",
       "[1798 rows x 1 columns]"
      ]
     },
     "execution_count": 48,
     "metadata": {},
     "output_type": "execute_result"
    }
   ],
   "source": [
    "features_df = pd.DataFrame(gs.best_estimator_.feature_importances_, X_train_df2.columns, columns=['Importance'])\n",
    "features_df"
   ]
  },
  {
   "cell_type": "code",
   "execution_count": 49,
   "metadata": {},
   "outputs": [
    {
     "data": {
      "text/html": [
       "<div>\n",
       "<style scoped>\n",
       "    .dataframe tbody tr th:only-of-type {\n",
       "        vertical-align: middle;\n",
       "    }\n",
       "\n",
       "    .dataframe tbody tr th {\n",
       "        vertical-align: top;\n",
       "    }\n",
       "\n",
       "    .dataframe thead th {\n",
       "        text-align: right;\n",
       "    }\n",
       "</style>\n",
       "<table border=\"1\" class=\"dataframe\">\n",
       "  <thead>\n",
       "    <tr style=\"text-align: right;\">\n",
       "      <th></th>\n",
       "      <th>Importance</th>\n",
       "    </tr>\n",
       "  </thead>\n",
       "  <tbody>\n",
       "    <tr>\n",
       "      <th>love</th>\n",
       "      <td>0.014371</td>\n",
       "    </tr>\n",
       "    <tr>\n",
       "      <th>cute</th>\n",
       "      <td>0.011866</td>\n",
       "    </tr>\n",
       "    <tr>\n",
       "      <th>suit</th>\n",
       "      <td>0.011060</td>\n",
       "    </tr>\n",
       "    <tr>\n",
       "      <th>im</th>\n",
       "      <td>0.010279</td>\n",
       "    </tr>\n",
       "    <tr>\n",
       "      <th>guy</th>\n",
       "      <td>0.010107</td>\n",
       "    </tr>\n",
       "    <tr>\n",
       "      <th>shirt</th>\n",
       "      <td>0.009660</td>\n",
       "    </tr>\n",
       "    <tr>\n",
       "      <th>woman</th>\n",
       "      <td>0.009148</td>\n",
       "    </tr>\n",
       "    <tr>\n",
       "      <th>chino</th>\n",
       "      <td>0.008255</td>\n",
       "    </tr>\n",
       "    <tr>\n",
       "      <th>dress</th>\n",
       "      <td>0.008217</td>\n",
       "    </tr>\n",
       "    <tr>\n",
       "      <th>fit</th>\n",
       "      <td>0.007810</td>\n",
       "    </tr>\n",
       "  </tbody>\n",
       "</table>\n",
       "</div>"
      ],
      "text/plain": [
       "       Importance\n",
       "love     0.014371\n",
       "cute     0.011866\n",
       "suit     0.011060\n",
       "im       0.010279\n",
       "guy      0.010107\n",
       "shirt    0.009660\n",
       "woman    0.009148\n",
       "chino    0.008255\n",
       "dress    0.008217\n",
       "fit      0.007810"
      ]
     },
     "execution_count": 49,
     "metadata": {},
     "output_type": "execute_result"
    }
   ],
   "source": [
    "features_df.sort_values(by='Importance', ascending=False).head(10)"
   ]
  },
  {
   "cell_type": "code",
   "execution_count": 50,
   "metadata": {},
   "outputs": [
    {
     "data": {
      "text/html": [
       "<div>\n",
       "<style scoped>\n",
       "    .dataframe tbody tr th:only-of-type {\n",
       "        vertical-align: middle;\n",
       "    }\n",
       "\n",
       "    .dataframe tbody tr th {\n",
       "        vertical-align: top;\n",
       "    }\n",
       "\n",
       "    .dataframe thead th {\n",
       "        text-align: right;\n",
       "    }\n",
       "</style>\n",
       "<table border=\"1\" class=\"dataframe\">\n",
       "  <thead>\n",
       "    <tr style=\"text-align: right;\">\n",
       "      <th></th>\n",
       "      <th>Importance</th>\n",
       "    </tr>\n",
       "  </thead>\n",
       "  <tbody>\n",
       "    <tr>\n",
       "      <th>longterm</th>\n",
       "      <td>0.0</td>\n",
       "    </tr>\n",
       "    <tr>\n",
       "      <th>imagealbum</th>\n",
       "      <td>0.0</td>\n",
       "    </tr>\n",
       "    <tr>\n",
       "      <th>ig</th>\n",
       "      <td>0.0</td>\n",
       "    </tr>\n",
       "    <tr>\n",
       "      <th>hosted</th>\n",
       "      <td>0.0</td>\n",
       "    </tr>\n",
       "    <tr>\n",
       "      <th>waiting</th>\n",
       "      <td>0.0</td>\n",
       "    </tr>\n",
       "    <tr>\n",
       "      <th>herehttpwwwredditcomrmalefashionadvicecommentsrwfthowtotakebetterselfpicsformfaif</th>\n",
       "      <td>0.0</td>\n",
       "    </tr>\n",
       "    <tr>\n",
       "      <th>herehttpswwwredditcomrfemalefashionadvicewikiruleswikionbloggerparticipationinffa</th>\n",
       "      <td>0.0</td>\n",
       "    </tr>\n",
       "    <tr>\n",
       "      <th>improvehttpswwwredditcomrfemalefashionadvicecommentsjfxkhowtogiveandreceiveconstructivecriticisma</th>\n",
       "      <td>0.0</td>\n",
       "    </tr>\n",
       "    <tr>\n",
       "      <th>height</th>\n",
       "      <td>0.0</td>\n",
       "    </tr>\n",
       "    <tr>\n",
       "      <th>visible</th>\n",
       "      <td>0.0</td>\n",
       "    </tr>\n",
       "  </tbody>\n",
       "</table>\n",
       "</div>"
      ],
      "text/plain": [
       "                                                    Importance\n",
       "longterm                                                   0.0\n",
       "imagealbum                                                 0.0\n",
       "ig                                                         0.0\n",
       "hosted                                                     0.0\n",
       "waiting                                                    0.0\n",
       "herehttpwwwredditcomrmalefashionadvicecommentsr...         0.0\n",
       "herehttpswwwredditcomrfemalefashionadvicewikiru...         0.0\n",
       "improvehttpswwwredditcomrfemalefashionadvicecom...         0.0\n",
       "height                                                     0.0\n",
       "visible                                                    0.0"
      ]
     },
     "execution_count": 50,
     "metadata": {},
     "output_type": "execute_result"
    }
   ],
   "source": [
    "features_df.sort_values(by='Importance', ascending=True).head(10)"
   ]
  },
  {
   "cell_type": "code",
   "execution_count": 51,
   "metadata": {},
   "outputs": [],
   "source": [
    "import matplotlib.pyplot as plt\n",
    "%matplotlib inline"
   ]
  },
  {
   "cell_type": "code",
   "execution_count": 61,
   "metadata": {
    "scrolled": false
   },
   "outputs": [
    {
     "data": {
      "image/png": "[encoded data removed]",
      "text/plain": [
       "<Figure size 1440x720 with 1 Axes>"
      ]
     },
     "metadata": {
      "needs_background": "light"
     },
     "output_type": "display_data"
    }
   ],
   "source": [
    "plt.figure(figsize=(20,10))\n",
    "temp = features_df.sort_values('Importance', ascending=False).head(20)\n",
    "plt.barh(temp.index, temp['Importance'])\n",
    "#plt.title('Top 20 Features from Selftext', fontsize=30)\n",
    "plt.xlabel('Amount of information gained', fontsize=22)\n",
    "plt.ylabel('Features', fontsize=22);\n",
    "plt.tick_params(axis='both', which='major', labelsize=18)\n",
    "plt.tick_params(axis='both', which='minor', labelsize=18)"
   ]
  },
  {
   "cell_type": "code",
   "execution_count": 53,
   "metadata": {},
   "outputs": [
    {
     "name": "stdout",
     "output_type": "stream",
     "text": [
      "0.5575683143997544\n"
     ]
    }
   ],
   "source": [
    "X_train_dtm = cvec.fit_transform(X_train)\n",
    "X_test_dtm = cvec.transform(X_test)\n",
    "nb = MultinomialNB()\n",
    "nb.fit(X_train_dtm, y_train)\n",
    "y_pred_class = nb.predict(X_test_dtm)\n",
    "# Calculate accuracy.\n",
    "print((metrics.accuracy_score(y_test, y_pred_class)))"
   ]
  },
  {
   "cell_type": "code",
   "execution_count": 54,
   "metadata": {},
   "outputs": [
    {
     "data": {
      "text/plain": [
       "0    0.501382\n",
       "1    0.498618\n",
       "Name: subreddit, dtype: float64"
      ]
     },
     "execution_count": 54,
     "metadata": {},
     "output_type": "execute_result"
    }
   ],
   "source": [
    "#baseline accuracy\n",
    "y_test.value_counts(normalize=True)"
   ]
  },
  {
   "cell_type": "markdown",
   "metadata": {},
   "source": [
    "Our model predicted ~55% accuracy, which is an improvement over this baseline 50% accuracy\n",
    "(assuming our model always predicts the mensfashion).\n"
   ]
  },
  {
   "cell_type": "code",
   "execution_count": 55,
   "metadata": {},
   "outputs": [],
   "source": [
    "params2 = {\n",
    "    'alpha': [1.0]\n",
    "}"
   ]
  },
  {
   "cell_type": "code",
   "execution_count": 56,
   "metadata": {},
   "outputs": [
    {
     "data": {
      "text/plain": [
       "GridSearchCV(cv=5, error_score='raise-deprecating',\n",
       "             estimator=MultinomialNB(alpha=1.0, class_prior=None,\n",
       "                                     fit_prior=True),\n",
       "             iid='warn', n_jobs=None, param_grid={'alpha': [1.0]},\n",
       "             pre_dispatch='2*n_jobs', refit=True, return_train_score=True,\n",
       "             scoring=None, verbose=0)"
      ]
     },
     "execution_count": 56,
     "metadata": {},
     "output_type": "execute_result"
    }
   ],
   "source": [
    "gs2 = GridSearchCV(nb, param_grid=params2, return_train_score=True, cv=5)\n",
    "gs2.fit(X_train_df2, y_train)"
   ]
  },
  {
   "cell_type": "code",
   "execution_count": 57,
   "metadata": {},
   "outputs": [
    {
     "data": {
      "text/plain": [
       "0.5787810978017639"
      ]
     },
     "execution_count": 57,
     "metadata": {},
     "output_type": "execute_result"
    }
   ],
   "source": [
    "gs2.score(X_train_df2, y_train)"
   ]
  },
  {
   "cell_type": "code",
   "execution_count": 58,
   "metadata": {},
   "outputs": [
    {
     "data": {
      "text/plain": [
       "0.5575683143997544"
      ]
     },
     "execution_count": 58,
     "metadata": {},
     "output_type": "execute_result"
    }
   ],
   "source": [
    "gs2.score(X_test_df, y_test)"
   ]
  },
  {
   "cell_type": "code",
   "execution_count": 60,
   "metadata": {
    "scrolled": true
   },
   "outputs": [],
   "source": [
    "# features_df = pd.DataFrame(gs2.best_estimator_.feature_importances_, X_train_df2.columns, columns=['Importance'])\n",
    "# features_df"
   ]
  },
  {
   "cell_type": "code",
   "execution_count": null,
   "metadata": {
    "scrolled": false
   },
   "outputs": [],
   "source": [
    "print((cvec.get_feature_names()[-50:]))\n"
   ]
  }
 ],
 "metadata": {
  "kernelspec": {
   "display_name": "Python 3",
   "language": "python",
   "name": "python3"
  },
  "language_info": {
   "codemirror_mode": {
    "name": "ipython",
    "version": 3
   },
   "file_extension": ".py",
   "mimetype": "text/x-python",
   "name": "python",
   "nbconvert_exporter": "python",
   "pygments_lexer": "ipython3",
   "version": "3.7.4"
  }
 },
 "nbformat": 4,
 "nbformat_minor": 2
}
